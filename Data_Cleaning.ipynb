{
  "nbformat": 4,
  "nbformat_minor": 0,
  "metadata": {
    "colab": {
      "provenance": [],
      "authorship_tag": "ABX9TyPRPjVUAHn3SP49jKjwEcWy",
      "include_colab_link": true
    },
    "kernelspec": {
      "name": "python3",
      "display_name": "Python 3"
    },
    "language_info": {
      "name": "python"
    }
  },
  "cells": [
    {
      "cell_type": "markdown",
      "metadata": {
        "id": "view-in-github",
        "colab_type": "text"
      },
      "source": [
        "<a href=\"https://colab.research.google.com/github/itskutush/Water-Quality-Analysis-using-GNN/blob/main/Data_Cleaning.ipynb\" target=\"_parent\"><img src=\"https://colab.research.google.com/assets/colab-badge.svg\" alt=\"Open In Colab\"/></a>"
      ]
    },
    {
      "cell_type": "code",
      "execution_count": null,
      "metadata": {
        "id": "AgNBZgvTFt40"
      },
      "outputs": [],
      "source": [
        "import numpy as np\n",
        "import pandas as pd\n",
        "import matplotlib.pyplot as plt\n",
        "import sklearn as sns\n"
      ]
    },
    {
      "cell_type": "code",
      "source": [
        "df = pd.read_csv('RESEARCH DATASET FINAL.csv')"
      ],
      "metadata": {
        "id": "f9iOym7rdpL6"
      },
      "execution_count": null,
      "outputs": []
    },
    {
      "cell_type": "code",
      "source": [
        "df"
      ],
      "metadata": {
        "colab": {
          "base_uri": "https://localhost:8080/",
          "height": 704
        },
        "id": "RatqtwPQdurR",
        "outputId": "429ca478-1a6a-41d2-95f0-468f693726ca"
      },
      "execution_count": null,
      "outputs": [
        {
          "output_type": "execute_result",
          "data": {
            "text/plain": [
              "     Year                                Monitoring Location  \\\n",
              "0    2022  SEA WATER, BAY OF BENGAL, AFTER CONFLUENCE OF ...   \n",
              "1    2022  CONFLUENCE OF MARINE OUTFALL OF M/S MATRIX LAB...   \n",
              "2    2022                     RUSHIKONDA BEACH,VISAKHAPATNAM   \n",
              "3    2022  SEA WATER BAY BENGAL, UPPADA BEACH ROAD, KAKINADA   \n",
              "4    2022         WATER PORT, KAKINADA (1KM AWAY FROM JETTY)   \n",
              "..    ...                                                ...   \n",
              "230  2018                                  ATHARABANKI CREEK   \n",
              "231  2017                                               PURI   \n",
              "232  2017                                           PARADEEP   \n",
              "233  2017                                           GOPALPUR   \n",
              "234  2017                                  ATHARABANKI CREEK   \n",
              "\n",
              "    Type of Water Body           State  Min Temp (20<)  Max Temp (>30)  \\\n",
              "0               MARINE  ANDHRA PRADESH            21.0            30.0   \n",
              "1               MARINE  ANDHRA PRADESH            25.0            28.0   \n",
              "2                BEACH  ANDHRA PRADESH            25.0            29.0   \n",
              "3                BEACH  ANDHRA PRADESH            25.0            28.0   \n",
              "4                  SEA  ANDHRA PRADESH            25.0            27.0   \n",
              "..                 ...             ...             ...             ...   \n",
              "230              CREEK          ODISHA            21.0            30.0   \n",
              "231              CREEK          ODISHA            21.0            31.0   \n",
              "232              CREEK          ODISHA            21.0            30.0   \n",
              "233              CREEK          ODISHA            10.0            30.0   \n",
              "234              CREEK          ODISHA            24.0            31.0   \n",
              "\n",
              "     Min Dissolved O2(mg/L)  MaxDissolved O2(mg/L)  Min pH(7.5<)  \\\n",
              "0                       5.2                    7.2           7.4   \n",
              "1                       5.2                    6.6           7.7   \n",
              "2                       4.8                    7.0           7.7   \n",
              "3                       4.5                    7.9           7.8   \n",
              "4                       5.3                    8.0           7.4   \n",
              "..                      ...                    ...           ...   \n",
              "230                     2.6                    8.2           6.7   \n",
              "231                     5.4                    7.3           7.7   \n",
              "232                     5.8                    8.5           7.4   \n",
              "233                     5.2                    7.7           7.8   \n",
              "234                     2.6                    5.9           5.6   \n",
              "\n",
              "     Max pH(>8.4)  ...  Max BOD\\n (mg/L)(>5)  \\\n",
              "0             8.4  ...                   2.5   \n",
              "1             8.5  ...                   2.8   \n",
              "2             8.5  ...                   2.9   \n",
              "3             8.5  ...                   2.8   \n",
              "4             8.4  ...                   3.9   \n",
              "..            ...  ...                   ...   \n",
              "230           7.7  ...                   7.9   \n",
              "231           8.2  ...                   3.0   \n",
              "232           8.2  ...                   1.4   \n",
              "233           8.4  ...                   1.8   \n",
              "234           7.2  ...                   9.3   \n",
              "\n",
              "     Min NitrateN + NitriteN (mg/L)(<0.3)  \\\n",
              "0                                    0.32   \n",
              "1                                    0.32   \n",
              "2                                    0.32   \n",
              "3                                    0.42   \n",
              "4                                    0.82   \n",
              "..                                    ...   \n",
              "230                                  0.25   \n",
              "231                                  0.35   \n",
              "232                                  0.11   \n",
              "233                                  0.24   \n",
              "234                                  0.57   \n",
              "\n",
              "     Max NitrateN + NitriteN (mg/L)(>0.5)  Min Fecal Coliform (MPN/100ML)  \\\n",
              "0                                    1.38                             3.0   \n",
              "1                                    0.88                             3.0   \n",
              "2                                    1.13                             3.0   \n",
              "3                                    1.32                             3.0   \n",
              "4                                    3.32                             4.0   \n",
              "..                                    ...                             ...   \n",
              "230                                  4.09                             1.8   \n",
              "231                                  2.59                             5.0   \n",
              "232                                  3.84                             2.0   \n",
              "233                                  2.55                             2.0   \n",
              "234                                  3.90                           790.0   \n",
              "\n",
              "     Max Fecal Coliform (MPN/100ML) (<200)  Min Total Coliform (MPN/100ML)  \\\n",
              "0                                      7.0                            48.0   \n",
              "1                                     11.0                            39.0   \n",
              "2                                     14.0                            39.0   \n",
              "3                                     20.0                            48.0   \n",
              "4                                     23.0                            75.0   \n",
              "..                                     ...                             ...   \n",
              "230                                16000.0                            20.0   \n",
              "231                                 5400.0                            21.0   \n",
              "232                                   45.0                             2.0   \n",
              "233                                  130.0                             2.0   \n",
              "234                                22000.0                           330.0   \n",
              "\n",
              "     Max Total Coliform (MPN/100ML)  Unnamed: 20  Unnamed: 21  \\\n",
              "0                             120.0          NaN          NaN   \n",
              "1                             210.0          NaN          NaN   \n",
              "2                             150.0          NaN          NaN   \n",
              "3                             150.0          NaN          NaN   \n",
              "4                             460.0          NaN          NaN   \n",
              "..                              ...          ...          ...   \n",
              "230                         16000.0          NaN          NaN   \n",
              "231                          9200.0          NaN          NaN   \n",
              "232                            78.0          NaN          NaN   \n",
              "233                           230.0          NaN          NaN   \n",
              "234                         54000.0          NaN          NaN   \n",
              "\n",
              "     Marine Life Existence  \n",
              "0                      NaN  \n",
              "1                      NaN  \n",
              "2                      NaN  \n",
              "3                      NaN  \n",
              "4                      NaN  \n",
              "..                     ...  \n",
              "230                    NaN  \n",
              "231                    NaN  \n",
              "232                    NaN  \n",
              "233                    NaN  \n",
              "234                    NaN  \n",
              "\n",
              "[235 rows x 23 columns]"
            ],
            "text/html": [
              "\n",
              "  <div id=\"df-c2b511ab-cc28-4054-a000-33736e3da430\" class=\"colab-df-container\">\n",
              "    <div>\n",
              "<style scoped>\n",
              "    .dataframe tbody tr th:only-of-type {\n",
              "        vertical-align: middle;\n",
              "    }\n",
              "\n",
              "    .dataframe tbody tr th {\n",
              "        vertical-align: top;\n",
              "    }\n",
              "\n",
              "    .dataframe thead th {\n",
              "        text-align: right;\n",
              "    }\n",
              "</style>\n",
              "<table border=\"1\" class=\"dataframe\">\n",
              "  <thead>\n",
              "    <tr style=\"text-align: right;\">\n",
              "      <th></th>\n",
              "      <th>Year</th>\n",
              "      <th>Monitoring Location</th>\n",
              "      <th>Type of Water Body</th>\n",
              "      <th>State</th>\n",
              "      <th>Min Temp (20&lt;)</th>\n",
              "      <th>Max Temp (&gt;30)</th>\n",
              "      <th>Min Dissolved O2(mg/L)</th>\n",
              "      <th>MaxDissolved O2(mg/L)</th>\n",
              "      <th>Min pH(7.5&lt;)</th>\n",
              "      <th>Max pH(&gt;8.4)</th>\n",
              "      <th>...</th>\n",
              "      <th>Max BOD\\n (mg/L)(&gt;5)</th>\n",
              "      <th>Min NitrateN + NitriteN (mg/L)(&lt;0.3)</th>\n",
              "      <th>Max NitrateN + NitriteN (mg/L)(&gt;0.5)</th>\n",
              "      <th>Min Fecal Coliform (MPN/100ML)</th>\n",
              "      <th>Max Fecal Coliform (MPN/100ML) (&lt;200)</th>\n",
              "      <th>Min Total Coliform (MPN/100ML)</th>\n",
              "      <th>Max Total Coliform (MPN/100ML)</th>\n",
              "      <th>Unnamed: 20</th>\n",
              "      <th>Unnamed: 21</th>\n",
              "      <th>Marine Life Existence</th>\n",
              "    </tr>\n",
              "  </thead>\n",
              "  <tbody>\n",
              "    <tr>\n",
              "      <th>0</th>\n",
              "      <td>2022</td>\n",
              "      <td>SEA WATER, BAY OF BENGAL, AFTER CONFLUENCE OF ...</td>\n",
              "      <td>MARINE</td>\n",
              "      <td>ANDHRA PRADESH</td>\n",
              "      <td>21.0</td>\n",
              "      <td>30.0</td>\n",
              "      <td>5.2</td>\n",
              "      <td>7.2</td>\n",
              "      <td>7.4</td>\n",
              "      <td>8.4</td>\n",
              "      <td>...</td>\n",
              "      <td>2.5</td>\n",
              "      <td>0.32</td>\n",
              "      <td>1.38</td>\n",
              "      <td>3.0</td>\n",
              "      <td>7.0</td>\n",
              "      <td>48.0</td>\n",
              "      <td>120.0</td>\n",
              "      <td>NaN</td>\n",
              "      <td>NaN</td>\n",
              "      <td>NaN</td>\n",
              "    </tr>\n",
              "    <tr>\n",
              "      <th>1</th>\n",
              "      <td>2022</td>\n",
              "      <td>CONFLUENCE OF MARINE OUTFALL OF M/S MATRIX LAB...</td>\n",
              "      <td>MARINE</td>\n",
              "      <td>ANDHRA PRADESH</td>\n",
              "      <td>25.0</td>\n",
              "      <td>28.0</td>\n",
              "      <td>5.2</td>\n",
              "      <td>6.6</td>\n",
              "      <td>7.7</td>\n",
              "      <td>8.5</td>\n",
              "      <td>...</td>\n",
              "      <td>2.8</td>\n",
              "      <td>0.32</td>\n",
              "      <td>0.88</td>\n",
              "      <td>3.0</td>\n",
              "      <td>11.0</td>\n",
              "      <td>39.0</td>\n",
              "      <td>210.0</td>\n",
              "      <td>NaN</td>\n",
              "      <td>NaN</td>\n",
              "      <td>NaN</td>\n",
              "    </tr>\n",
              "    <tr>\n",
              "      <th>2</th>\n",
              "      <td>2022</td>\n",
              "      <td>RUSHIKONDA BEACH,VISAKHAPATNAM</td>\n",
              "      <td>BEACH</td>\n",
              "      <td>ANDHRA PRADESH</td>\n",
              "      <td>25.0</td>\n",
              "      <td>29.0</td>\n",
              "      <td>4.8</td>\n",
              "      <td>7.0</td>\n",
              "      <td>7.7</td>\n",
              "      <td>8.5</td>\n",
              "      <td>...</td>\n",
              "      <td>2.9</td>\n",
              "      <td>0.32</td>\n",
              "      <td>1.13</td>\n",
              "      <td>3.0</td>\n",
              "      <td>14.0</td>\n",
              "      <td>39.0</td>\n",
              "      <td>150.0</td>\n",
              "      <td>NaN</td>\n",
              "      <td>NaN</td>\n",
              "      <td>NaN</td>\n",
              "    </tr>\n",
              "    <tr>\n",
              "      <th>3</th>\n",
              "      <td>2022</td>\n",
              "      <td>SEA WATER BAY BENGAL, UPPADA BEACH ROAD, KAKINADA</td>\n",
              "      <td>BEACH</td>\n",
              "      <td>ANDHRA PRADESH</td>\n",
              "      <td>25.0</td>\n",
              "      <td>28.0</td>\n",
              "      <td>4.5</td>\n",
              "      <td>7.9</td>\n",
              "      <td>7.8</td>\n",
              "      <td>8.5</td>\n",
              "      <td>...</td>\n",
              "      <td>2.8</td>\n",
              "      <td>0.42</td>\n",
              "      <td>1.32</td>\n",
              "      <td>3.0</td>\n",
              "      <td>20.0</td>\n",
              "      <td>48.0</td>\n",
              "      <td>150.0</td>\n",
              "      <td>NaN</td>\n",
              "      <td>NaN</td>\n",
              "      <td>NaN</td>\n",
              "    </tr>\n",
              "    <tr>\n",
              "      <th>4</th>\n",
              "      <td>2022</td>\n",
              "      <td>WATER PORT, KAKINADA (1KM AWAY FROM JETTY)</td>\n",
              "      <td>SEA</td>\n",
              "      <td>ANDHRA PRADESH</td>\n",
              "      <td>25.0</td>\n",
              "      <td>27.0</td>\n",
              "      <td>5.3</td>\n",
              "      <td>8.0</td>\n",
              "      <td>7.4</td>\n",
              "      <td>8.4</td>\n",
              "      <td>...</td>\n",
              "      <td>3.9</td>\n",
              "      <td>0.82</td>\n",
              "      <td>3.32</td>\n",
              "      <td>4.0</td>\n",
              "      <td>23.0</td>\n",
              "      <td>75.0</td>\n",
              "      <td>460.0</td>\n",
              "      <td>NaN</td>\n",
              "      <td>NaN</td>\n",
              "      <td>NaN</td>\n",
              "    </tr>\n",
              "    <tr>\n",
              "      <th>...</th>\n",
              "      <td>...</td>\n",
              "      <td>...</td>\n",
              "      <td>...</td>\n",
              "      <td>...</td>\n",
              "      <td>...</td>\n",
              "      <td>...</td>\n",
              "      <td>...</td>\n",
              "      <td>...</td>\n",
              "      <td>...</td>\n",
              "      <td>...</td>\n",
              "      <td>...</td>\n",
              "      <td>...</td>\n",
              "      <td>...</td>\n",
              "      <td>...</td>\n",
              "      <td>...</td>\n",
              "      <td>...</td>\n",
              "      <td>...</td>\n",
              "      <td>...</td>\n",
              "      <td>...</td>\n",
              "      <td>...</td>\n",
              "      <td>...</td>\n",
              "    </tr>\n",
              "    <tr>\n",
              "      <th>230</th>\n",
              "      <td>2018</td>\n",
              "      <td>ATHARABANKI CREEK</td>\n",
              "      <td>CREEK</td>\n",
              "      <td>ODISHA</td>\n",
              "      <td>21.0</td>\n",
              "      <td>30.0</td>\n",
              "      <td>2.6</td>\n",
              "      <td>8.2</td>\n",
              "      <td>6.7</td>\n",
              "      <td>7.7</td>\n",
              "      <td>...</td>\n",
              "      <td>7.9</td>\n",
              "      <td>0.25</td>\n",
              "      <td>4.09</td>\n",
              "      <td>1.8</td>\n",
              "      <td>16000.0</td>\n",
              "      <td>20.0</td>\n",
              "      <td>16000.0</td>\n",
              "      <td>NaN</td>\n",
              "      <td>NaN</td>\n",
              "      <td>NaN</td>\n",
              "    </tr>\n",
              "    <tr>\n",
              "      <th>231</th>\n",
              "      <td>2017</td>\n",
              "      <td>PURI</td>\n",
              "      <td>CREEK</td>\n",
              "      <td>ODISHA</td>\n",
              "      <td>21.0</td>\n",
              "      <td>31.0</td>\n",
              "      <td>5.4</td>\n",
              "      <td>7.3</td>\n",
              "      <td>7.7</td>\n",
              "      <td>8.2</td>\n",
              "      <td>...</td>\n",
              "      <td>3.0</td>\n",
              "      <td>0.35</td>\n",
              "      <td>2.59</td>\n",
              "      <td>5.0</td>\n",
              "      <td>5400.0</td>\n",
              "      <td>21.0</td>\n",
              "      <td>9200.0</td>\n",
              "      <td>NaN</td>\n",
              "      <td>NaN</td>\n",
              "      <td>NaN</td>\n",
              "    </tr>\n",
              "    <tr>\n",
              "      <th>232</th>\n",
              "      <td>2017</td>\n",
              "      <td>PARADEEP</td>\n",
              "      <td>CREEK</td>\n",
              "      <td>ODISHA</td>\n",
              "      <td>21.0</td>\n",
              "      <td>30.0</td>\n",
              "      <td>5.8</td>\n",
              "      <td>8.5</td>\n",
              "      <td>7.4</td>\n",
              "      <td>8.2</td>\n",
              "      <td>...</td>\n",
              "      <td>1.4</td>\n",
              "      <td>0.11</td>\n",
              "      <td>3.84</td>\n",
              "      <td>2.0</td>\n",
              "      <td>45.0</td>\n",
              "      <td>2.0</td>\n",
              "      <td>78.0</td>\n",
              "      <td>NaN</td>\n",
              "      <td>NaN</td>\n",
              "      <td>NaN</td>\n",
              "    </tr>\n",
              "    <tr>\n",
              "      <th>233</th>\n",
              "      <td>2017</td>\n",
              "      <td>GOPALPUR</td>\n",
              "      <td>CREEK</td>\n",
              "      <td>ODISHA</td>\n",
              "      <td>10.0</td>\n",
              "      <td>30.0</td>\n",
              "      <td>5.2</td>\n",
              "      <td>7.7</td>\n",
              "      <td>7.8</td>\n",
              "      <td>8.4</td>\n",
              "      <td>...</td>\n",
              "      <td>1.8</td>\n",
              "      <td>0.24</td>\n",
              "      <td>2.55</td>\n",
              "      <td>2.0</td>\n",
              "      <td>130.0</td>\n",
              "      <td>2.0</td>\n",
              "      <td>230.0</td>\n",
              "      <td>NaN</td>\n",
              "      <td>NaN</td>\n",
              "      <td>NaN</td>\n",
              "    </tr>\n",
              "    <tr>\n",
              "      <th>234</th>\n",
              "      <td>2017</td>\n",
              "      <td>ATHARABANKI CREEK</td>\n",
              "      <td>CREEK</td>\n",
              "      <td>ODISHA</td>\n",
              "      <td>24.0</td>\n",
              "      <td>31.0</td>\n",
              "      <td>2.6</td>\n",
              "      <td>5.9</td>\n",
              "      <td>5.6</td>\n",
              "      <td>7.2</td>\n",
              "      <td>...</td>\n",
              "      <td>9.3</td>\n",
              "      <td>0.57</td>\n",
              "      <td>3.90</td>\n",
              "      <td>790.0</td>\n",
              "      <td>22000.0</td>\n",
              "      <td>330.0</td>\n",
              "      <td>54000.0</td>\n",
              "      <td>NaN</td>\n",
              "      <td>NaN</td>\n",
              "      <td>NaN</td>\n",
              "    </tr>\n",
              "  </tbody>\n",
              "</table>\n",
              "<p>235 rows × 23 columns</p>\n",
              "</div>\n",
              "    <div class=\"colab-df-buttons\">\n",
              "\n",
              "  <div class=\"colab-df-container\">\n",
              "    <button class=\"colab-df-convert\" onclick=\"convertToInteractive('df-c2b511ab-cc28-4054-a000-33736e3da430')\"\n",
              "            title=\"Convert this dataframe to an interactive table.\"\n",
              "            style=\"display:none;\">\n",
              "\n",
              "  <svg xmlns=\"http://www.w3.org/2000/svg\" height=\"24px\" viewBox=\"0 -960 960 960\">\n",
              "    <path d=\"M120-120v-720h720v720H120Zm60-500h600v-160H180v160Zm220 220h160v-160H400v160Zm0 220h160v-160H400v160ZM180-400h160v-160H180v160Zm440 0h160v-160H620v160ZM180-180h160v-160H180v160Zm440 0h160v-160H620v160Z\"/>\n",
              "  </svg>\n",
              "    </button>\n",
              "\n",
              "  <style>\n",
              "    .colab-df-container {\n",
              "      display:flex;\n",
              "      gap: 12px;\n",
              "    }\n",
              "\n",
              "    .colab-df-convert {\n",
              "      background-color: #E8F0FE;\n",
              "      border: none;\n",
              "      border-radius: 50%;\n",
              "      cursor: pointer;\n",
              "      display: none;\n",
              "      fill: #1967D2;\n",
              "      height: 32px;\n",
              "      padding: 0 0 0 0;\n",
              "      width: 32px;\n",
              "    }\n",
              "\n",
              "    .colab-df-convert:hover {\n",
              "      background-color: #E2EBFA;\n",
              "      box-shadow: 0px 1px 2px rgba(60, 64, 67, 0.3), 0px 1px 3px 1px rgba(60, 64, 67, 0.15);\n",
              "      fill: #174EA6;\n",
              "    }\n",
              "\n",
              "    .colab-df-buttons div {\n",
              "      margin-bottom: 4px;\n",
              "    }\n",
              "\n",
              "    [theme=dark] .colab-df-convert {\n",
              "      background-color: #3B4455;\n",
              "      fill: #D2E3FC;\n",
              "    }\n",
              "\n",
              "    [theme=dark] .colab-df-convert:hover {\n",
              "      background-color: #434B5C;\n",
              "      box-shadow: 0px 1px 3px 1px rgba(0, 0, 0, 0.15);\n",
              "      filter: drop-shadow(0px 1px 2px rgba(0, 0, 0, 0.3));\n",
              "      fill: #FFFFFF;\n",
              "    }\n",
              "  </style>\n",
              "\n",
              "    <script>\n",
              "      const buttonEl =\n",
              "        document.querySelector('#df-c2b511ab-cc28-4054-a000-33736e3da430 button.colab-df-convert');\n",
              "      buttonEl.style.display =\n",
              "        google.colab.kernel.accessAllowed ? 'block' : 'none';\n",
              "\n",
              "      async function convertToInteractive(key) {\n",
              "        const element = document.querySelector('#df-c2b511ab-cc28-4054-a000-33736e3da430');\n",
              "        const dataTable =\n",
              "          await google.colab.kernel.invokeFunction('convertToInteractive',\n",
              "                                                    [key], {});\n",
              "        if (!dataTable) return;\n",
              "\n",
              "        const docLinkHtml = 'Like what you see? Visit the ' +\n",
              "          '<a target=\"_blank\" href=https://colab.research.google.com/notebooks/data_table.ipynb>data table notebook</a>'\n",
              "          + ' to learn more about interactive tables.';\n",
              "        element.innerHTML = '';\n",
              "        dataTable['output_type'] = 'display_data';\n",
              "        await google.colab.output.renderOutput(dataTable, element);\n",
              "        const docLink = document.createElement('div');\n",
              "        docLink.innerHTML = docLinkHtml;\n",
              "        element.appendChild(docLink);\n",
              "      }\n",
              "    </script>\n",
              "  </div>\n",
              "\n",
              "\n",
              "<div id=\"df-da0522ed-b922-48f9-9bb5-b00d100e791e\">\n",
              "  <button class=\"colab-df-quickchart\" onclick=\"quickchart('df-da0522ed-b922-48f9-9bb5-b00d100e791e')\"\n",
              "            title=\"Suggest charts\"\n",
              "            style=\"display:none;\">\n",
              "\n",
              "<svg xmlns=\"http://www.w3.org/2000/svg\" height=\"24px\"viewBox=\"0 0 24 24\"\n",
              "     width=\"24px\">\n",
              "    <g>\n",
              "        <path d=\"M19 3H5c-1.1 0-2 .9-2 2v14c0 1.1.9 2 2 2h14c1.1 0 2-.9 2-2V5c0-1.1-.9-2-2-2zM9 17H7v-7h2v7zm4 0h-2V7h2v10zm4 0h-2v-4h2v4z\"/>\n",
              "    </g>\n",
              "</svg>\n",
              "  </button>\n",
              "\n",
              "<style>\n",
              "  .colab-df-quickchart {\n",
              "      --bg-color: #E8F0FE;\n",
              "      --fill-color: #1967D2;\n",
              "      --hover-bg-color: #E2EBFA;\n",
              "      --hover-fill-color: #174EA6;\n",
              "      --disabled-fill-color: #AAA;\n",
              "      --disabled-bg-color: #DDD;\n",
              "  }\n",
              "\n",
              "  [theme=dark] .colab-df-quickchart {\n",
              "      --bg-color: #3B4455;\n",
              "      --fill-color: #D2E3FC;\n",
              "      --hover-bg-color: #434B5C;\n",
              "      --hover-fill-color: #FFFFFF;\n",
              "      --disabled-bg-color: #3B4455;\n",
              "      --disabled-fill-color: #666;\n",
              "  }\n",
              "\n",
              "  .colab-df-quickchart {\n",
              "    background-color: var(--bg-color);\n",
              "    border: none;\n",
              "    border-radius: 50%;\n",
              "    cursor: pointer;\n",
              "    display: none;\n",
              "    fill: var(--fill-color);\n",
              "    height: 32px;\n",
              "    padding: 0;\n",
              "    width: 32px;\n",
              "  }\n",
              "\n",
              "  .colab-df-quickchart:hover {\n",
              "    background-color: var(--hover-bg-color);\n",
              "    box-shadow: 0 1px 2px rgba(60, 64, 67, 0.3), 0 1px 3px 1px rgba(60, 64, 67, 0.15);\n",
              "    fill: var(--button-hover-fill-color);\n",
              "  }\n",
              "\n",
              "  .colab-df-quickchart-complete:disabled,\n",
              "  .colab-df-quickchart-complete:disabled:hover {\n",
              "    background-color: var(--disabled-bg-color);\n",
              "    fill: var(--disabled-fill-color);\n",
              "    box-shadow: none;\n",
              "  }\n",
              "\n",
              "  .colab-df-spinner {\n",
              "    border: 2px solid var(--fill-color);\n",
              "    border-color: transparent;\n",
              "    border-bottom-color: var(--fill-color);\n",
              "    animation:\n",
              "      spin 1s steps(1) infinite;\n",
              "  }\n",
              "\n",
              "  @keyframes spin {\n",
              "    0% {\n",
              "      border-color: transparent;\n",
              "      border-bottom-color: var(--fill-color);\n",
              "      border-left-color: var(--fill-color);\n",
              "    }\n",
              "    20% {\n",
              "      border-color: transparent;\n",
              "      border-left-color: var(--fill-color);\n",
              "      border-top-color: var(--fill-color);\n",
              "    }\n",
              "    30% {\n",
              "      border-color: transparent;\n",
              "      border-left-color: var(--fill-color);\n",
              "      border-top-color: var(--fill-color);\n",
              "      border-right-color: var(--fill-color);\n",
              "    }\n",
              "    40% {\n",
              "      border-color: transparent;\n",
              "      border-right-color: var(--fill-color);\n",
              "      border-top-color: var(--fill-color);\n",
              "    }\n",
              "    60% {\n",
              "      border-color: transparent;\n",
              "      border-right-color: var(--fill-color);\n",
              "    }\n",
              "    80% {\n",
              "      border-color: transparent;\n",
              "      border-right-color: var(--fill-color);\n",
              "      border-bottom-color: var(--fill-color);\n",
              "    }\n",
              "    90% {\n",
              "      border-color: transparent;\n",
              "      border-bottom-color: var(--fill-color);\n",
              "    }\n",
              "  }\n",
              "</style>\n",
              "\n",
              "  <script>\n",
              "    async function quickchart(key) {\n",
              "      const quickchartButtonEl =\n",
              "        document.querySelector('#' + key + ' button');\n",
              "      quickchartButtonEl.disabled = true;  // To prevent multiple clicks.\n",
              "      quickchartButtonEl.classList.add('colab-df-spinner');\n",
              "      try {\n",
              "        const charts = await google.colab.kernel.invokeFunction(\n",
              "            'suggestCharts', [key], {});\n",
              "      } catch (error) {\n",
              "        console.error('Error during call to suggestCharts:', error);\n",
              "      }\n",
              "      quickchartButtonEl.classList.remove('colab-df-spinner');\n",
              "      quickchartButtonEl.classList.add('colab-df-quickchart-complete');\n",
              "    }\n",
              "    (() => {\n",
              "      let quickchartButtonEl =\n",
              "        document.querySelector('#df-da0522ed-b922-48f9-9bb5-b00d100e791e button');\n",
              "      quickchartButtonEl.style.display =\n",
              "        google.colab.kernel.accessAllowed ? 'block' : 'none';\n",
              "    })();\n",
              "  </script>\n",
              "</div>\n",
              "    </div>\n",
              "  </div>\n"
            ],
            "application/vnd.google.colaboratory.intrinsic+json": {
              "type": "dataframe",
              "variable_name": "df"
            }
          },
          "metadata": {},
          "execution_count": 3
        }
      ]
    },
    {
      "source": [
        "from matplotlib import pyplot as plt\n",
        "import seaborn as sns\n",
        "df.groupby('State').size().plot(kind='barh', color=sns.palettes.mpl_palette('Dark2'))\n",
        "plt.gca().spines[['top', 'right',]].set_visible(False)"
      ],
      "cell_type": "code",
      "metadata": {
        "id": "Cl1wdvjkyqAV",
        "outputId": "961351a3-2044-4f3c-a40e-25f32904b544",
        "colab": {
          "base_uri": "https://localhost:8080/",
          "height": 430
        }
      },
      "execution_count": null,
      "outputs": [
        {
          "output_type": "display_data",
          "data": {
            "text/plain": [
              "<Figure size 640x480 with 1 Axes>"
            ],
            "image/png": "[encoded data removed]"
          },
          "metadata": {}
        }
      ]
    },
    {
      "source": [
        "from matplotlib import pyplot as plt\n",
        "df['Year'].plot(kind='hist', bins=20, title='Year')\n",
        "plt.gca().spines[['top', 'right',]].set_visible(False)"
      ],
      "cell_type": "code",
      "metadata": {
        "colab": {
          "base_uri": "https://localhost:8080/",
          "height": 452
        },
        "id": "I0ZS8dMKwWfL",
        "outputId": "179aa80d-5189-4246-8bb5-c4c7b1f1b0e3"
      },
      "execution_count": null,
      "outputs": [
        {
          "output_type": "display_data",
          "data": {
            "text/plain": [
              "<Figure size 640x480 with 1 Axes>"
            ],
            "image/png": "[encoded data removed]"
          },
          "metadata": {}
        }
      ]
    },
    {
      "source": [
        "# @title Type of Water Body vs State\n",
        "\n",
        "from matplotlib import pyplot as plt\n",
        "import seaborn as sns\n",
        "import pandas as pd\n",
        "plt.subplots(figsize=(8, 8))\n",
        "df_2dhist = pd.DataFrame({\n",
        "    x_label: grp['State'].value_counts()\n",
        "    for x_label, grp in df.groupby('Type of Water Body')\n",
        "})\n",
        "sns.heatmap(df_2dhist, cmap='viridis')\n",
        "plt.xlabel('Type of Water Body')\n",
        "_ = plt.ylabel('State')"
      ],
      "cell_type": "code",
      "execution_count": null,
      "outputs": [
        {
          "output_type": "display_data",
          "data": {
            "text/plain": [
              "<Figure size 800x800 with 2 Axes>"
            ],
            "image/png": "[encoded data removed]"
          },
          "metadata": {}
        }
      ],
      "metadata": {
        "cellView": "form",
        "colab": {
          "base_uri": "https://localhost:8080/",
          "height": 696
        },
        "id": "UDNkbNefwQer",
        "outputId": "ae83c76d-6c77-42fe-ba98-3fa7421c5c58"
      }
    },
    {
      "source": [
        "# @title Type of Water Body\n",
        "\n",
        "from matplotlib import pyplot as plt\n",
        "import seaborn as sns\n",
        "df.groupby('Type of Water Body').size().plot(kind='barh', color=sns.palettes.mpl_palette('Dark2'))\n",
        "plt.gca().spines[['top', 'right',]].set_visible(False)"
      ],
      "cell_type": "code",
      "execution_count": null,
      "outputs": [
        {
          "output_type": "display_data",
          "data": {
            "text/plain": [
              "<Figure size 640x480 with 1 Axes>"
            ],
            "image/png": "[encoded data removed]"
          },
          "metadata": {}
        }
      ],
      "metadata": {
        "colab": {
          "base_uri": "https://localhost:8080/",
          "height": 430
        },
        "id": "6N7ytXc3v_y8",
        "outputId": "ae741921-2059-46b0-8bfd-2b9086813f0f"
      }
    },
    {
      "cell_type": "code",
      "source": [
        "df.dtypes"
      ],
      "metadata": {
        "id": "MYsOf-FkYbEg",
        "colab": {
          "base_uri": "https://localhost:8080/"
        },
        "outputId": "ca993ab5-5528-435a-c685-03cadb3b88bc"
      },
      "execution_count": null,
      "outputs": [
        {
          "output_type": "execute_result",
          "data": {
            "text/plain": [
              "Year                                       int64\n",
              "Monitoring Location                       object\n",
              "Type of Water Body                        object\n",
              "State                                     object\n",
              "Min Temp (20<)                           float64\n",
              "Max Temp (>30)                           float64\n",
              "Min Dissolved O2(mg/L)                   float64\n",
              "MaxDissolved O2(mg/L)                    float64\n",
              "Min pH(7.5<)                             float64\n",
              "Max pH(>8.4)                             float64\n",
              "Min Conductivity (μmho/cm)(<30k)         float64\n",
              "Max Conductivity (μmho/cm)(>50k)         float64\n",
              "Min BOD\\n (mg/L)(<5)                     float64\n",
              "Max BOD\\n (mg/L)(>5)                     float64\n",
              "Min NitrateN + NitriteN (mg/L)(<0.3)     float64\n",
              "Max NitrateN + NitriteN (mg/L)(>0.5)     float64\n",
              "Min Fecal Coliform (MPN/100ML)           float64\n",
              "Max Fecal Coliform (MPN/100ML) (<200)    float64\n",
              "Min Total Coliform (MPN/100ML)           float64\n",
              "Max Total Coliform (MPN/100ML)           float64\n",
              "Unnamed: 20                              float64\n",
              "Unnamed: 21                              float64\n",
              "Marine Life Existence                    float64\n",
              "dtype: object"
            ]
          },
          "metadata": {},
          "execution_count": 8
        }
      ]
    },
    {
      "cell_type": "code",
      "source": [
        "df.info()"
      ],
      "metadata": {
        "colab": {
          "base_uri": "https://localhost:8080/"
        },
        "id": "ywKp-30fZsb5",
        "outputId": "ca43e973-f48d-4ace-d314-8c18a9a8f0d2"
      },
      "execution_count": null,
      "outputs": [
        {
          "output_type": "stream",
          "name": "stdout",
          "text": [
            "<class 'pandas.core.frame.DataFrame'>\n",
            "RangeIndex: 235 entries, 0 to 234\n",
            "Data columns (total 23 columns):\n",
            " #   Column                                 Non-Null Count  Dtype  \n",
            "---  ------                                 --------------  -----  \n",
            " 0   Year                                   235 non-null    int64  \n",
            " 1   Monitoring Location                    235 non-null    object \n",
            " 2   Type of Water Body                     235 non-null    object \n",
            " 3   State                                  235 non-null    object \n",
            " 4   Min Temp (20<)                         189 non-null    float64\n",
            " 5   Max Temp (>30)                         189 non-null    float64\n",
            " 6   Min Dissolved O2(mg/L)                 235 non-null    float64\n",
            " 7   MaxDissolved O2(mg/L)                  235 non-null    float64\n",
            " 8   Min pH(7.5<)                           235 non-null    float64\n",
            " 9   Max pH(>8.4)                           235 non-null    float64\n",
            " 10  Min Conductivity (μmho/cm)(<30k)       69 non-null     float64\n",
            " 11  Max Conductivity (μmho/cm)(>50k)       69 non-null     float64\n",
            " 12  Min BOD\n",
            " (mg/L)(<5)                    217 non-null    float64\n",
            " 13  Max BOD\n",
            " (mg/L)(>5)                    217 non-null    float64\n",
            " 14  Min NitrateN + NitriteN (mg/L)(<0.3)   67 non-null     float64\n",
            " 15  Max NitrateN + NitriteN (mg/L)(>0.5)   67 non-null     float64\n",
            " 16  Min Fecal Coliform (MPN/100ML)         226 non-null    float64\n",
            " 17  Max Fecal Coliform (MPN/100ML) (<200)  226 non-null    float64\n",
            " 18  Min Total Coliform (MPN/100ML)         74 non-null     float64\n",
            " 19  Max Total Coliform (MPN/100ML)         74 non-null     float64\n",
            " 20  Unnamed: 20                            0 non-null      float64\n",
            " 21  Unnamed: 21                            0 non-null      float64\n",
            " 22  Marine Life Existence                  0 non-null      float64\n",
            "dtypes: float64(19), int64(1), object(3)\n",
            "memory usage: 42.4+ KB\n"
          ]
        }
      ]
    },
    {
      "cell_type": "code",
      "source": [
        "df.describe()"
      ],
      "metadata": {
        "colab": {
          "base_uri": "https://localhost:8080/",
          "height": 407
        },
        "id": "MUlqY4JhZtbj",
        "outputId": "b9cc8d0a-b5dd-4df0-abd4-8e7d54627570"
      },
      "execution_count": null,
      "outputs": [
        {
          "output_type": "execute_result",
          "data": {
            "text/plain": [
              "              Year  Min Temp (20<)  Max Temp (>30)  Min Dissolved O2(mg/L)  \\\n",
              "count   235.000000      189.000000      189.000000              235.000000   \n",
              "mean   2021.234043       25.529630       29.409524                5.411064   \n",
              "std       1.117322        3.920781        2.263145                1.404406   \n",
              "min    2017.000000        9.000000       21.000000                0.300000   \n",
              "25%    2021.000000       23.000000       28.100000                5.000000   \n",
              "50%    2022.000000       26.000000       29.500000                5.600000   \n",
              "75%    2022.000000       28.500000       30.600000                6.200000   \n",
              "max    2022.000000       32.000000       37.000000                8.400000   \n",
              "\n",
              "       MaxDissolved O2(mg/L)  Min pH(7.5<)  Max pH(>8.4)  \\\n",
              "count             235.000000    235.000000    235.000000   \n",
              "mean                7.013617      7.572766      8.241277   \n",
              "std                 0.955677      0.597951      0.350882   \n",
              "min                 4.800000      5.200000      7.200000   \n",
              "25%                 6.350000      7.100000      8.000000   \n",
              "50%                 7.000000      7.600000      8.300000   \n",
              "75%                 7.700000      8.000000      8.500000   \n",
              "max                12.500000      9.000000      9.300000   \n",
              "\n",
              "       Min Conductivity (μmho/cm)(<30k)  Max Conductivity (μmho/cm)(>50k)  \\\n",
              "count                         69.000000                         69.000000   \n",
              "mean                       23662.014493                      53117.130435   \n",
              "std                        14679.632545                       9532.309889   \n",
              "min                          146.000000                      12710.000000   \n",
              "25%                         7300.000000                      50800.000000   \n",
              "50%                        30900.000000                      55700.000000   \n",
              "75%                        32970.000000                      57690.000000   \n",
              "max                        55400.000000                      74900.000000   \n",
              "\n",
              "       Min BOD\\n (mg/L)(<5)  Max BOD\\n (mg/L)(>5)  \\\n",
              "count            217.000000            217.000000   \n",
              "mean               1.788018              4.039631   \n",
              "std                2.056481              5.137498   \n",
              "min                0.200000              1.000000   \n",
              "25%                1.000000              1.200000   \n",
              "50%                1.000000              2.500000   \n",
              "75%                2.000000              3.400000   \n",
              "max               20.000000             26.000000   \n",
              "\n",
              "       Min NitrateN + NitriteN (mg/L)(<0.3)  \\\n",
              "count                             67.000000   \n",
              "mean                               0.465015   \n",
              "std                                0.250689   \n",
              "min                                0.110000   \n",
              "25%                                0.300000   \n",
              "50%                                0.390000   \n",
              "75%                                0.645000   \n",
              "max                                1.240000   \n",
              "\n",
              "       Max NitrateN + NitriteN (mg/L)(>0.5)  Min Fecal Coliform (MPN/100ML)  \\\n",
              "count                             67.000000                      226.000000   \n",
              "mean                               2.383642                       26.264602   \n",
              "std                                1.669730                      124.975512   \n",
              "min                                0.390000                        1.800000   \n",
              "25%                                1.282000                        2.000000   \n",
              "50%                                1.810000                        3.000000   \n",
              "75%                                2.940000                        6.775000   \n",
              "max                                8.041000                     1600.000000   \n",
              "\n",
              "       Max Fecal Coliform (MPN/100ML) (<200)  Min Total Coliform (MPN/100ML)  \\\n",
              "count                             226.000000                       74.000000   \n",
              "mean                              414.166814                       65.440541   \n",
              "std                              1965.464634                       67.466075   \n",
              "min                                 1.800000                        1.800000   \n",
              "25%                                 4.500000                       20.250000   \n",
              "50%                                15.000000                       64.000000   \n",
              "75%                                79.000000                       73.500000   \n",
              "max                             22000.000000                      330.000000   \n",
              "\n",
              "       Max Total Coliform (MPN/100ML)  Unnamed: 20  Unnamed: 21  \\\n",
              "count                       74.000000          0.0          0.0   \n",
              "mean                      2117.337838          NaN          NaN   \n",
              "std                       7304.186732          NaN          NaN   \n",
              "min                         10.000000          NaN          NaN   \n",
              "25%                        120.000000          NaN          NaN   \n",
              "50%                        180.000000          NaN          NaN   \n",
              "75%                        433.500000          NaN          NaN   \n",
              "max                      54000.000000          NaN          NaN   \n",
              "\n",
              "       Marine Life Existence  \n",
              "count                    0.0  \n",
              "mean                     NaN  \n",
              "std                      NaN  \n",
              "min                      NaN  \n",
              "25%                      NaN  \n",
              "50%                      NaN  \n",
              "75%                      NaN  \n",
              "max                      NaN  "
            ],
            "text/html": [
              "\n",
              "  <div id=\"df-08986a4b-b2a4-42e9-8d1e-61e81b5928b4\" class=\"colab-df-container\">\n",
              "    <div>\n",
              "<style scoped>\n",
              "    .dataframe tbody tr th:only-of-type {\n",
              "        vertical-align: middle;\n",
              "    }\n",
              "\n",
              "    .dataframe tbody tr th {\n",
              "        vertical-align: top;\n",
              "    }\n",
              "\n",
              "    .dataframe thead th {\n",
              "        text-align: right;\n",
              "    }\n",
              "</style>\n",
              "<table border=\"1\" class=\"dataframe\">\n",
              "  <thead>\n",
              "    <tr style=\"text-align: right;\">\n",
              "      <th></th>\n",
              "      <th>Year</th>\n",
              "      <th>Min Temp (20&lt;)</th>\n",
              "      <th>Max Temp (&gt;30)</th>\n",
              "      <th>Min Dissolved O2(mg/L)</th>\n",
              "      <th>MaxDissolved O2(mg/L)</th>\n",
              "      <th>Min pH(7.5&lt;)</th>\n",
              "      <th>Max pH(&gt;8.4)</th>\n",
              "      <th>Min Conductivity (μmho/cm)(&lt;30k)</th>\n",
              "      <th>Max Conductivity (μmho/cm)(&gt;50k)</th>\n",
              "      <th>Min BOD\\n (mg/L)(&lt;5)</th>\n",
              "      <th>Max BOD\\n (mg/L)(&gt;5)</th>\n",
              "      <th>Min NitrateN + NitriteN (mg/L)(&lt;0.3)</th>\n",
              "      <th>Max NitrateN + NitriteN (mg/L)(&gt;0.5)</th>\n",
              "      <th>Min Fecal Coliform (MPN/100ML)</th>\n",
              "      <th>Max Fecal Coliform (MPN/100ML) (&lt;200)</th>\n",
              "      <th>Min Total Coliform (MPN/100ML)</th>\n",
              "      <th>Max Total Coliform (MPN/100ML)</th>\n",
              "      <th>Unnamed: 20</th>\n",
              "      <th>Unnamed: 21</th>\n",
              "      <th>Marine Life Existence</th>\n",
              "    </tr>\n",
              "  </thead>\n",
              "  <tbody>\n",
              "    <tr>\n",
              "      <th>count</th>\n",
              "      <td>235.000000</td>\n",
              "      <td>189.000000</td>\n",
              "      <td>189.000000</td>\n",
              "      <td>235.000000</td>\n",
              "      <td>235.000000</td>\n",
              "      <td>235.000000</td>\n",
              "      <td>235.000000</td>\n",
              "      <td>69.000000</td>\n",
              "      <td>69.000000</td>\n",
              "      <td>217.000000</td>\n",
              "      <td>217.000000</td>\n",
              "      <td>67.000000</td>\n",
              "      <td>67.000000</td>\n",
              "      <td>226.000000</td>\n",
              "      <td>226.000000</td>\n",
              "      <td>74.000000</td>\n",
              "      <td>74.000000</td>\n",
              "      <td>0.0</td>\n",
              "      <td>0.0</td>\n",
              "      <td>0.0</td>\n",
              "    </tr>\n",
              "    <tr>\n",
              "      <th>mean</th>\n",
              "      <td>2021.234043</td>\n",
              "      <td>25.529630</td>\n",
              "      <td>29.409524</td>\n",
              "      <td>5.411064</td>\n",
              "      <td>7.013617</td>\n",
              "      <td>7.572766</td>\n",
              "      <td>8.241277</td>\n",
              "      <td>23662.014493</td>\n",
              "      <td>53117.130435</td>\n",
              "      <td>1.788018</td>\n",
              "      <td>4.039631</td>\n",
              "      <td>0.465015</td>\n",
              "      <td>2.383642</td>\n",
              "      <td>26.264602</td>\n",
              "      <td>414.166814</td>\n",
              "      <td>65.440541</td>\n",
              "      <td>2117.337838</td>\n",
              "      <td>NaN</td>\n",
              "      <td>NaN</td>\n",
              "      <td>NaN</td>\n",
              "    </tr>\n",
              "    <tr>\n",
              "      <th>std</th>\n",
              "      <td>1.117322</td>\n",
              "      <td>3.920781</td>\n",
              "      <td>2.263145</td>\n",
              "      <td>1.404406</td>\n",
              "      <td>0.955677</td>\n",
              "      <td>0.597951</td>\n",
              "      <td>0.350882</td>\n",
              "      <td>14679.632545</td>\n",
              "      <td>9532.309889</td>\n",
              "      <td>2.056481</td>\n",
              "      <td>5.137498</td>\n",
              "      <td>0.250689</td>\n",
              "      <td>1.669730</td>\n",
              "      <td>124.975512</td>\n",
              "      <td>1965.464634</td>\n",
              "      <td>67.466075</td>\n",
              "      <td>7304.186732</td>\n",
              "      <td>NaN</td>\n",
              "      <td>NaN</td>\n",
              "      <td>NaN</td>\n",
              "    </tr>\n",
              "    <tr>\n",
              "      <th>min</th>\n",
              "      <td>2017.000000</td>\n",
              "      <td>9.000000</td>\n",
              "      <td>21.000000</td>\n",
              "      <td>0.300000</td>\n",
              "      <td>4.800000</td>\n",
              "      <td>5.200000</td>\n",
              "      <td>7.200000</td>\n",
              "      <td>146.000000</td>\n",
              "      <td>12710.000000</td>\n",
              "      <td>0.200000</td>\n",
              "      <td>1.000000</td>\n",
              "      <td>0.110000</td>\n",
              "      <td>0.390000</td>\n",
              "      <td>1.800000</td>\n",
              "      <td>1.800000</td>\n",
              "      <td>1.800000</td>\n",
              "      <td>10.000000</td>\n",
              "      <td>NaN</td>\n",
              "      <td>NaN</td>\n",
              "      <td>NaN</td>\n",
              "    </tr>\n",
              "    <tr>\n",
              "      <th>25%</th>\n",
              "      <td>2021.000000</td>\n",
              "      <td>23.000000</td>\n",
              "      <td>28.100000</td>\n",
              "      <td>5.000000</td>\n",
              "      <td>6.350000</td>\n",
              "      <td>7.100000</td>\n",
              "      <td>8.000000</td>\n",
              "      <td>7300.000000</td>\n",
              "      <td>50800.000000</td>\n",
              "      <td>1.000000</td>\n",
              "      <td>1.200000</td>\n",
              "      <td>0.300000</td>\n",
              "      <td>1.282000</td>\n",
              "      <td>2.000000</td>\n",
              "      <td>4.500000</td>\n",
              "      <td>20.250000</td>\n",
              "      <td>120.000000</td>\n",
              "      <td>NaN</td>\n",
              "      <td>NaN</td>\n",
              "      <td>NaN</td>\n",
              "    </tr>\n",
              "    <tr>\n",
              "      <th>50%</th>\n",
              "      <td>2022.000000</td>\n",
              "      <td>26.000000</td>\n",
              "      <td>29.500000</td>\n",
              "      <td>5.600000</td>\n",
              "      <td>7.000000</td>\n",
              "      <td>7.600000</td>\n",
              "      <td>8.300000</td>\n",
              "      <td>30900.000000</td>\n",
              "      <td>55700.000000</td>\n",
              "      <td>1.000000</td>\n",
              "      <td>2.500000</td>\n",
              "      <td>0.390000</td>\n",
              "      <td>1.810000</td>\n",
              "      <td>3.000000</td>\n",
              "      <td>15.000000</td>\n",
              "      <td>64.000000</td>\n",
              "      <td>180.000000</td>\n",
              "      <td>NaN</td>\n",
              "      <td>NaN</td>\n",
              "      <td>NaN</td>\n",
              "    </tr>\n",
              "    <tr>\n",
              "      <th>75%</th>\n",
              "      <td>2022.000000</td>\n",
              "      <td>28.500000</td>\n",
              "      <td>30.600000</td>\n",
              "      <td>6.200000</td>\n",
              "      <td>7.700000</td>\n",
              "      <td>8.000000</td>\n",
              "      <td>8.500000</td>\n",
              "      <td>32970.000000</td>\n",
              "      <td>57690.000000</td>\n",
              "      <td>2.000000</td>\n",
              "      <td>3.400000</td>\n",
              "      <td>0.645000</td>\n",
              "      <td>2.940000</td>\n",
              "      <td>6.775000</td>\n",
              "      <td>79.000000</td>\n",
              "      <td>73.500000</td>\n",
              "      <td>433.500000</td>\n",
              "      <td>NaN</td>\n",
              "      <td>NaN</td>\n",
              "      <td>NaN</td>\n",
              "    </tr>\n",
              "    <tr>\n",
              "      <th>max</th>\n",
              "      <td>2022.000000</td>\n",
              "      <td>32.000000</td>\n",
              "      <td>37.000000</td>\n",
              "      <td>8.400000</td>\n",
              "      <td>12.500000</td>\n",
              "      <td>9.000000</td>\n",
              "      <td>9.300000</td>\n",
              "      <td>55400.000000</td>\n",
              "      <td>74900.000000</td>\n",
              "      <td>20.000000</td>\n",
              "      <td>26.000000</td>\n",
              "      <td>1.240000</td>\n",
              "      <td>8.041000</td>\n",
              "      <td>1600.000000</td>\n",
              "      <td>22000.000000</td>\n",
              "      <td>330.000000</td>\n",
              "      <td>54000.000000</td>\n",
              "      <td>NaN</td>\n",
              "      <td>NaN</td>\n",
              "      <td>NaN</td>\n",
              "    </tr>\n",
              "  </tbody>\n",
              "</table>\n",
              "</div>\n",
              "    <div class=\"colab-df-buttons\">\n",
              "\n",
              "  <div class=\"colab-df-container\">\n",
              "    <button class=\"colab-df-convert\" onclick=\"convertToInteractive('df-08986a4b-b2a4-42e9-8d1e-61e81b5928b4')\"\n",
              "            title=\"Convert this dataframe to an interactive table.\"\n",
              "            style=\"display:none;\">\n",
              "\n",
              "  <svg xmlns=\"http://www.w3.org/2000/svg\" height=\"24px\" viewBox=\"0 -960 960 960\">\n",
              "    <path d=\"M120-120v-720h720v720H120Zm60-500h600v-160H180v160Zm220 220h160v-160H400v160Zm0 220h160v-160H400v160ZM180-400h160v-160H180v160Zm440 0h160v-160H620v160ZM180-180h160v-160H180v160Zm440 0h160v-160H620v160Z\"/>\n",
              "  </svg>\n",
              "    </button>\n",
              "\n",
              "  <style>\n",
              "    .colab-df-container {\n",
              "      display:flex;\n",
              "      gap: 12px;\n",
              "    }\n",
              "\n",
              "    .colab-df-convert {\n",
              "      background-color: #E8F0FE;\n",
              "      border: none;\n",
              "      border-radius: 50%;\n",
              "      cursor: pointer;\n",
              "      display: none;\n",
              "      fill: #1967D2;\n",
              "      height: 32px;\n",
              "      padding: 0 0 0 0;\n",
              "      width: 32px;\n",
              "    }\n",
              "\n",
              "    .colab-df-convert:hover {\n",
              "      background-color: #E2EBFA;\n",
              "      box-shadow: 0px 1px 2px rgba(60, 64, 67, 0.3), 0px 1px 3px 1px rgba(60, 64, 67, 0.15);\n",
              "      fill: #174EA6;\n",
              "    }\n",
              "\n",
              "    .colab-df-buttons div {\n",
              "      margin-bottom: 4px;\n",
              "    }\n",
              "\n",
              "    [theme=dark] .colab-df-convert {\n",
              "      background-color: #3B4455;\n",
              "      fill: #D2E3FC;\n",
              "    }\n",
              "\n",
              "    [theme=dark] .colab-df-convert:hover {\n",
              "      background-color: #434B5C;\n",
              "      box-shadow: 0px 1px 3px 1px rgba(0, 0, 0, 0.15);\n",
              "      filter: drop-shadow(0px 1px 2px rgba(0, 0, 0, 0.3));\n",
              "      fill: #FFFFFF;\n",
              "    }\n",
              "  </style>\n",
              "\n",
              "    <script>\n",
              "      const buttonEl =\n",
              "        document.querySelector('#df-08986a4b-b2a4-42e9-8d1e-61e81b5928b4 button.colab-df-convert');\n",
              "      buttonEl.style.display =\n",
              "        google.colab.kernel.accessAllowed ? 'block' : 'none';\n",
              "\n",
              "      async function convertToInteractive(key) {\n",
              "        const element = document.querySelector('#df-08986a4b-b2a4-42e9-8d1e-61e81b5928b4');\n",
              "        const dataTable =\n",
              "          await google.colab.kernel.invokeFunction('convertToInteractive',\n",
              "                                                    [key], {});\n",
              "        if (!dataTable) return;\n",
              "\n",
              "        const docLinkHtml = 'Like what you see? Visit the ' +\n",
              "          '<a target=\"_blank\" href=https://colab.research.google.com/notebooks/data_table.ipynb>data table notebook</a>'\n",
              "          + ' to learn more about interactive tables.';\n",
              "        element.innerHTML = '';\n",
              "        dataTable['output_type'] = 'display_data';\n",
              "        await google.colab.output.renderOutput(dataTable, element);\n",
              "        const docLink = document.createElement('div');\n",
              "        docLink.innerHTML = docLinkHtml;\n",
              "        element.appendChild(docLink);\n",
              "      }\n",
              "    </script>\n",
              "  </div>\n",
              "\n",
              "\n",
              "<div id=\"df-7c381c8c-b021-41de-b418-1819b426b9b2\">\n",
              "  <button class=\"colab-df-quickchart\" onclick=\"quickchart('df-7c381c8c-b021-41de-b418-1819b426b9b2')\"\n",
              "            title=\"Suggest charts\"\n",
              "            style=\"display:none;\">\n",
              "\n",
              "<svg xmlns=\"http://www.w3.org/2000/svg\" height=\"24px\"viewBox=\"0 0 24 24\"\n",
              "     width=\"24px\">\n",
              "    <g>\n",
              "        <path d=\"M19 3H5c-1.1 0-2 .9-2 2v14c0 1.1.9 2 2 2h14c1.1 0 2-.9 2-2V5c0-1.1-.9-2-2-2zM9 17H7v-7h2v7zm4 0h-2V7h2v10zm4 0h-2v-4h2v4z\"/>\n",
              "    </g>\n",
              "</svg>\n",
              "  </button>\n",
              "\n",
              "<style>\n",
              "  .colab-df-quickchart {\n",
              "      --bg-color: #E8F0FE;\n",
              "      --fill-color: #1967D2;\n",
              "      --hover-bg-color: #E2EBFA;\n",
              "      --hover-fill-color: #174EA6;\n",
              "      --disabled-fill-color: #AAA;\n",
              "      --disabled-bg-color: #DDD;\n",
              "  }\n",
              "\n",
              "  [theme=dark] .colab-df-quickchart {\n",
              "      --bg-color: #3B4455;\n",
              "      --fill-color: #D2E3FC;\n",
              "      --hover-bg-color: #434B5C;\n",
              "      --hover-fill-color: #FFFFFF;\n",
              "      --disabled-bg-color: #3B4455;\n",
              "      --disabled-fill-color: #666;\n",
              "  }\n",
              "\n",
              "  .colab-df-quickchart {\n",
              "    background-color: var(--bg-color);\n",
              "    border: none;\n",
              "    border-radius: 50%;\n",
              "    cursor: pointer;\n",
              "    display: none;\n",
              "    fill: var(--fill-color);\n",
              "    height: 32px;\n",
              "    padding: 0;\n",
              "    width: 32px;\n",
              "  }\n",
              "\n",
              "  .colab-df-quickchart:hover {\n",
              "    background-color: var(--hover-bg-color);\n",
              "    box-shadow: 0 1px 2px rgba(60, 64, 67, 0.3), 0 1px 3px 1px rgba(60, 64, 67, 0.15);\n",
              "    fill: var(--button-hover-fill-color);\n",
              "  }\n",
              "\n",
              "  .colab-df-quickchart-complete:disabled,\n",
              "  .colab-df-quickchart-complete:disabled:hover {\n",
              "    background-color: var(--disabled-bg-color);\n",
              "    fill: var(--disabled-fill-color);\n",
              "    box-shadow: none;\n",
              "  }\n",
              "\n",
              "  .colab-df-spinner {\n",
              "    border: 2px solid var(--fill-color);\n",
              "    border-color: transparent;\n",
              "    border-bottom-color: var(--fill-color);\n",
              "    animation:\n",
              "      spin 1s steps(1) infinite;\n",
              "  }\n",
              "\n",
              "  @keyframes spin {\n",
              "    0% {\n",
              "      border-color: transparent;\n",
              "      border-bottom-color: var(--fill-color);\n",
              "      border-left-color: var(--fill-color);\n",
              "    }\n",
              "    20% {\n",
              "      border-color: transparent;\n",
              "      border-left-color: var(--fill-color);\n",
              "      border-top-color: var(--fill-color);\n",
              "    }\n",
              "    30% {\n",
              "      border-color: transparent;\n",
              "      border-left-color: var(--fill-color);\n",
              "      border-top-color: var(--fill-color);\n",
              "      border-right-color: var(--fill-color);\n",
              "    }\n",
              "    40% {\n",
              "      border-color: transparent;\n",
              "      border-right-color: var(--fill-color);\n",
              "      border-top-color: var(--fill-color);\n",
              "    }\n",
              "    60% {\n",
              "      border-color: transparent;\n",
              "      border-right-color: var(--fill-color);\n",
              "    }\n",
              "    80% {\n",
              "      border-color: transparent;\n",
              "      border-right-color: var(--fill-color);\n",
              "      border-bottom-color: var(--fill-color);\n",
              "    }\n",
              "    90% {\n",
              "      border-color: transparent;\n",
              "      border-bottom-color: var(--fill-color);\n",
              "    }\n",
              "  }\n",
              "</style>\n",
              "\n",
              "  <script>\n",
              "    async function quickchart(key) {\n",
              "      const quickchartButtonEl =\n",
              "        document.querySelector('#' + key + ' button');\n",
              "      quickchartButtonEl.disabled = true;  // To prevent multiple clicks.\n",
              "      quickchartButtonEl.classList.add('colab-df-spinner');\n",
              "      try {\n",
              "        const charts = await google.colab.kernel.invokeFunction(\n",
              "            'suggestCharts', [key], {});\n",
              "      } catch (error) {\n",
              "        console.error('Error during call to suggestCharts:', error);\n",
              "      }\n",
              "      quickchartButtonEl.classList.remove('colab-df-spinner');\n",
              "      quickchartButtonEl.classList.add('colab-df-quickchart-complete');\n",
              "    }\n",
              "    (() => {\n",
              "      let quickchartButtonEl =\n",
              "        document.querySelector('#df-7c381c8c-b021-41de-b418-1819b426b9b2 button');\n",
              "      quickchartButtonEl.style.display =\n",
              "        google.colab.kernel.accessAllowed ? 'block' : 'none';\n",
              "    })();\n",
              "  </script>\n",
              "</div>\n",
              "    </div>\n",
              "  </div>\n"
            ],
            "application/vnd.google.colaboratory.intrinsic+json": {
              "type": "dataframe",
              "summary": "{\n  \"name\": \"df\",\n  \"rows\": 8,\n  \"fields\": [\n    {\n      \"column\": \"Year\",\n      \"properties\": {\n        \"dtype\": \"number\",\n        \"std\": 883.0482399020032,\n        \"min\": 1.1173221565870297,\n        \"max\": 2022.0,\n        \"num_unique_values\": 6,\n        \"samples\": [\n          235.0,\n          2021.2340425531916,\n          2022.0\n        ],\n        \"semantic_type\": \"\",\n        \"description\": \"\"\n      }\n    },\n    {\n      \"column\": \"Min Temp (20<)\",\n      \"properties\": {\n        \"dtype\": \"number\",\n        \"std\": 60.14083130337288,\n        \"min\": 3.9207807475816314,\n        \"max\": 189.0,\n        \"num_unique_values\": 8,\n        \"samples\": [\n          25.529629629629632,\n          26.0,\n          189.0\n        ],\n        \"semantic_type\": \"\",\n        \"description\": \"\"\n      }\n    },\n    {\n      \"column\": \"Max Temp (>30)\",\n      \"properties\": {\n        \"dtype\": \"number\",\n        \"std\": 58.764442062668024,\n        \"min\": 2.2631446503055628,\n        \"max\": 189.0,\n        \"num_unique_values\": 8,\n        \"samples\": [\n          29.409523809523808,\n          29.5,\n          189.0\n        ],\n        \"semantic_type\": \"\",\n        \"description\": \"\"\n      }\n    },\n    {\n      \"column\": \"Min Dissolved O2(mg/L)\",\n      \"properties\": {\n        \"dtype\": \"number\",\n        \"std\": 81.49452823731534,\n        \"min\": 0.3,\n        \"max\": 235.0,\n        \"num_unique_values\": 8,\n        \"samples\": [\n          5.411063829787234,\n          5.6,\n          235.0\n        ],\n        \"semantic_type\": \"\",\n        \"description\": \"\"\n      }\n    },\n    {\n      \"column\": \"MaxDissolved O2(mg/L)\",\n      \"properties\": {\n        \"dtype\": \"number\",\n        \"std\": 80.80880301278421,\n        \"min\": 0.9556767538392342,\n        \"max\": 235.0,\n        \"num_unique_values\": 8,\n        \"samples\": [\n          7.0136170212765965,\n          7.0,\n          235.0\n        ],\n        \"semantic_type\": \"\",\n        \"description\": \"\"\n      }\n    },\n    {\n      \"column\": \"Min pH(7.5<)\",\n      \"properties\": {\n        \"dtype\": \"number\",\n        \"std\": 80.85080041843206,\n        \"min\": 0.5979512819522079,\n        \"max\": 235.0,\n        \"num_unique_values\": 8,\n        \"samples\": [\n          7.5727659574468085,\n          7.6,\n          235.0\n        ],\n        \"semantic_type\": \"\",\n        \"description\": \"\"\n      }\n    },\n    {\n      \"column\": \"Max pH(>8.4)\",\n      \"properties\": {\n        \"dtype\": \"number\",\n        \"std\": 80.61466458242754,\n        \"min\": 0.3508817770395707,\n        \"max\": 235.0,\n        \"num_unique_values\": 8,\n        \"samples\": [\n          8.241276595744681,\n          8.3,\n          235.0\n        ],\n        \"semantic_type\": \"\",\n        \"description\": \"\"\n      }\n    },\n    {\n      \"column\": \"Min Conductivity (\\u03bcmho/cm)(<30k)\",\n      \"properties\": {\n        \"dtype\": \"number\",\n        \"std\": 19016.30249198973,\n        \"min\": 69.0,\n        \"max\": 55400.0,\n        \"num_unique_values\": 8,\n        \"samples\": [\n          23662.014492753624,\n          30900.0,\n          69.0\n        ],\n        \"semantic_type\": \"\",\n        \"description\": \"\"\n      }\n    },\n    {\n      \"column\": \"Max Conductivity (\\u03bcmho/cm)(>50k)\",\n      \"properties\": {\n        \"dtype\": \"number\",\n        \"std\": 27593.7059994259,\n        \"min\": 69.0,\n        \"max\": 74900.0,\n        \"num_unique_values\": 8,\n        \"samples\": [\n          53117.13043478261,\n          55700.0,\n          69.0\n        ],\n        \"semantic_type\": \"\",\n        \"description\": \"\"\n      }\n    },\n    {\n      \"column\": \"Min BOD\\n (mg/L)(<5)\",\n      \"properties\": {\n        \"dtype\": \"number\",\n        \"std\": 75.58969626802433,\n        \"min\": 0.2,\n        \"max\": 217.0,\n        \"num_unique_values\": 7,\n        \"samples\": [\n          217.0,\n          1.788018433179724,\n          2.0\n        ],\n        \"semantic_type\": \"\",\n        \"description\": \"\"\n      }\n    },\n    {\n      \"column\": \"Max BOD\\n (mg/L)(>5)\",\n      \"properties\": {\n        \"dtype\": \"number\",\n        \"std\": 74.98565529825179,\n        \"min\": 1.0,\n        \"max\": 217.0,\n        \"num_unique_values\": 8,\n        \"samples\": [\n          4.039631336405529,\n          2.5,\n          217.0\n        ],\n        \"semantic_type\": \"\",\n        \"description\": \"\"\n      }\n    },\n    {\n      \"column\": \"Min NitrateN + NitriteN (mg/L)(<0.3)\",\n      \"properties\": {\n        \"dtype\": \"number\",\n        \"std\": 23.518851157364686,\n        \"min\": 0.11,\n        \"max\": 67.0,\n        \"num_unique_values\": 8,\n        \"samples\": [\n          0.4650149253731343,\n          0.39,\n          67.0\n        ],\n        \"semantic_type\": \"\",\n        \"description\": \"\"\n      }\n    },\n    {\n      \"column\": \"Max NitrateN + NitriteN (mg/L)(>0.5)\",\n      \"properties\": {\n        \"dtype\": \"number\",\n        \"std\": 22.871415464259503,\n        \"min\": 0.39,\n        \"max\": 67.0,\n        \"num_unique_values\": 8,\n        \"samples\": [\n          2.3836417910447762,\n          1.81,\n          67.0\n        ],\n        \"semantic_type\": \"\",\n        \"description\": \"\"\n      }\n    },\n    {\n      \"column\": \"Min Fecal Coliform (MPN/100ML)\",\n      \"properties\": {\n        \"dtype\": \"number\",\n        \"std\": 551.8836247024225,\n        \"min\": 1.8,\n        \"max\": 1600.0,\n        \"num_unique_values\": 8,\n        \"samples\": [\n          26.264601769911504,\n          3.0,\n          226.0\n        ],\n        \"semantic_type\": \"\",\n        \"description\": \"\"\n      }\n    },\n    {\n      \"column\": \"Max Fecal Coliform (MPN/100ML) (<200)\",\n      \"properties\": {\n        \"dtype\": \"number\",\n        \"std\": 7669.925216414504,\n        \"min\": 1.8,\n        \"max\": 22000.0,\n        \"num_unique_values\": 8,\n        \"samples\": [\n          414.166814159292,\n          15.0,\n          226.0\n        ],\n        \"semantic_type\": \"\",\n        \"description\": \"\"\n      }\n    },\n    {\n      \"column\": \"Min Total Coliform (MPN/100ML)\",\n      \"properties\": {\n        \"dtype\": \"number\",\n        \"std\": 101.76317813911737,\n        \"min\": 1.8,\n        \"max\": 330.0,\n        \"num_unique_values\": 8,\n        \"samples\": [\n          65.44054054054054,\n          64.0,\n          74.0\n        ],\n        \"semantic_type\": \"\",\n        \"description\": \"\"\n      }\n    },\n    {\n      \"column\": \"Max Total Coliform (MPN/100ML)\",\n      \"properties\": {\n        \"dtype\": \"number\",\n        \"std\": 18739.73252925051,\n        \"min\": 10.0,\n        \"max\": 54000.0,\n        \"num_unique_values\": 8,\n        \"samples\": [\n          2117.337837837838,\n          180.0,\n          74.0\n        ],\n        \"semantic_type\": \"\",\n        \"description\": \"\"\n      }\n    },\n    {\n      \"column\": \"Unnamed: 20\",\n      \"properties\": {\n        \"dtype\": \"number\",\n        \"std\": null,\n        \"min\": 0.0,\n        \"max\": 0.0,\n        \"num_unique_values\": 1,\n        \"samples\": [\n          0.0\n        ],\n        \"semantic_type\": \"\",\n        \"description\": \"\"\n      }\n    },\n    {\n      \"column\": \"Unnamed: 21\",\n      \"properties\": {\n        \"dtype\": \"number\",\n        \"std\": null,\n        \"min\": 0.0,\n        \"max\": 0.0,\n        \"num_unique_values\": 1,\n        \"samples\": [\n          0.0\n        ],\n        \"semantic_type\": \"\",\n        \"description\": \"\"\n      }\n    },\n    {\n      \"column\": \"Marine Life Existence\",\n      \"properties\": {\n        \"dtype\": \"number\",\n        \"std\": null,\n        \"min\": 0.0,\n        \"max\": 0.0,\n        \"num_unique_values\": 1,\n        \"samples\": [\n          0.0\n        ],\n        \"semantic_type\": \"\",\n        \"description\": \"\"\n      }\n    }\n  ]\n}"
            }
          },
          "metadata": {},
          "execution_count": 10
        }
      ]
    },
    {
      "cell_type": "code",
      "source": [
        "df.isnull().sum()"
      ],
      "metadata": {
        "colab": {
          "base_uri": "https://localhost:8080/"
        },
        "id": "YcslbG9PZxDZ",
        "outputId": "ad589cf4-5286-4c88-f85e-9f5c5452abe2"
      },
      "execution_count": null,
      "outputs": [
        {
          "output_type": "execute_result",
          "data": {
            "text/plain": [
              "Year                                       0\n",
              "Monitoring Location                        0\n",
              "Type of Water Body                         0\n",
              "State                                      0\n",
              "Min Temp (20<)                            46\n",
              "Max Temp (>30)                            46\n",
              "Min Dissolved O2(mg/L)                     0\n",
              "MaxDissolved O2(mg/L)                      0\n",
              "Min pH(7.5<)                               0\n",
              "Max pH(>8.4)                               0\n",
              "Min Conductivity (μmho/cm)(<30k)         166\n",
              "Max Conductivity (μmho/cm)(>50k)         166\n",
              "Min BOD\\n (mg/L)(<5)                      18\n",
              "Max BOD\\n (mg/L)(>5)                      18\n",
              "Min NitrateN + NitriteN (mg/L)(<0.3)     168\n",
              "Max NitrateN + NitriteN (mg/L)(>0.5)     168\n",
              "Min Fecal Coliform (MPN/100ML)             9\n",
              "Max Fecal Coliform (MPN/100ML) (<200)      9\n",
              "Min Total Coliform (MPN/100ML)           161\n",
              "Max Total Coliform (MPN/100ML)           161\n",
              "Unnamed: 20                              235\n",
              "Unnamed: 21                              235\n",
              "Marine Life Existence                    235\n",
              "dtype: int64"
            ]
          },
          "metadata": {},
          "execution_count": 11
        }
      ]
    },
    {
      "cell_type": "code",
      "source": [
        "print(df.columns)\n",
        "\n"
      ],
      "metadata": {
        "colab": {
          "base_uri": "https://localhost:8080/"
        },
        "id": "bp3fJBKhbMHW",
        "outputId": "9600784f-b160-4256-e6c1-b9001b5eca5f"
      },
      "execution_count": null,
      "outputs": [
        {
          "output_type": "stream",
          "name": "stdout",
          "text": [
            "Index(['Year', 'Monitoring Location', 'Type of Water Body', 'State',\n",
            "       'Min Temp (20<)', 'Max Temp (>30)', 'Min Dissolved O2(mg/L)',\n",
            "       'MaxDissolved O2(mg/L)', 'Min pH(7.5<)', 'Max pH(>8.4)',\n",
            "       'Min Conductivity (μmho/cm)(<30k)', 'Max Conductivity (μmho/cm)(>50k)',\n",
            "       'Min BOD\\n (mg/L)(<5)', 'Max BOD\\n (mg/L)(>5)',\n",
            "       'Min NitrateN + NitriteN (mg/L)(<0.3)',\n",
            "       'Max NitrateN + NitriteN (mg/L)(>0.5)',\n",
            "       'Min Fecal Coliform (MPN/100ML)',\n",
            "       'Max Fecal Coliform (MPN/100ML) (<200)',\n",
            "       'Min Total Coliform (MPN/100ML)', 'Max Total Coliform (MPN/100ML)',\n",
            "       'Unnamed: 20', 'Unnamed: 21', 'Marine Life Existence'],\n",
            "      dtype='object')\n"
          ]
        }
      ]
    },
    {
      "cell_type": "code",
      "source": [
        "print(\"Unique states:\", df['State'].unique())"
      ],
      "metadata": {
        "colab": {
          "base_uri": "https://localhost:8080/"
        },
        "id": "MWlBzyXffxja",
        "outputId": "1c12bad2-bb79-4efc-d0b1-55fcc60cd921"
      },
      "execution_count": null,
      "outputs": [
        {
          "output_type": "stream",
          "name": "stdout",
          "text": [
            "Unique states: ['ANDHRA PRADESH' 'ODISHA' 'TAMIL NADU']\n"
          ]
        }
      ]
    },
    {
      "cell_type": "code",
      "source": [
        "print(\"Unique Type of Water Body:\", df['Type of Water Body'].unique())"
      ],
      "metadata": {
        "colab": {
          "base_uri": "https://localhost:8080/"
        },
        "id": "w4wtBSTlhelt",
        "outputId": "15481d2b-db5f-4597-bb78-48ab2a363726"
      },
      "execution_count": null,
      "outputs": [
        {
          "output_type": "stream",
          "name": "stdout",
          "text": [
            "Unique Type of Water Body: ['MARINE' 'BEACH' 'SEA' 'CREEK']\n"
          ]
        }
      ]
    },
    {
      "cell_type": "code",
      "source": [
        "#Fixing string values\n",
        "df['State'] = df['State'].replace({'ANDHRA PRADESH  ': 'ANDHRA PRADESH', 'ODISHA ': 'ODISHA'})\n",
        "print(df['State'].unique())\n",
        "\n"
      ],
      "metadata": {
        "colab": {
          "base_uri": "https://localhost:8080/"
        },
        "id": "YCOgKdDwq_b2",
        "outputId": "fe2c30e1-d7f3-4752-b992-193009000e71"
      },
      "execution_count": null,
      "outputs": [
        {
          "output_type": "stream",
          "name": "stdout",
          "text": [
            "['ANDHRA PRADESH' 'ODISHA' 'TAMIL NADU']\n"
          ]
        }
      ]
    },
    {
      "cell_type": "code",
      "source": [
        "#Fixing Type of Water Body string values\n",
        "water_body_counts = df['Type of Water Body'].value_counts()\n",
        "print(\"Count of each type of water body:\")\n",
        "print(water_body_counts)\n"
      ],
      "metadata": {
        "colab": {
          "base_uri": "https://localhost:8080/"
        },
        "id": "jG9nXxm5sJ47",
        "outputId": "60ffd7a5-8598-4bf4-8e07-1dc909a50c7d"
      },
      "execution_count": null,
      "outputs": [
        {
          "output_type": "stream",
          "name": "stdout",
          "text": [
            "Count of each type of water body:\n",
            "Type of Water Body\n",
            "MARINE    126\n",
            "SEA        71\n",
            "BEACH      19\n",
            "CREEK      19\n",
            "Name: count, dtype: int64\n"
          ]
        }
      ]
    },
    {
      "cell_type": "code",
      "source": [
        "filtered_df = df[(df['State'] == 'TAMIL NADU') &\n",
        "                 (df['Type of Water Body'] == 'SEA') &\n",
        "                 (df['Year'] == 2022)]\n"
      ],
      "metadata": {
        "id": "cGlHZmQB4fb_"
      },
      "execution_count": null,
      "outputs": []
    },
    {
      "cell_type": "code",
      "source": [
        "mean_min_conductivity = filtered_df['Min Conductivity (μmho/cm)(<30k)'].mean()\n",
        "df.loc[(df['State'] == 'TAMIL NADU') &\n",
        "       (df['Type of Water Body'] == 'SEA') &\n",
        "       (df['Year'] == 2022), 'Min Conductivity (μmho/cm)(<30k)'] = mean_min_conductivity\n",
        "print(df[df['State'] == 'TAMIL NADU'][['State','Monitoring Location', 'Type of Water Body', 'Year', 'Min Conductivity (μmho/cm)(<30k)']])"
      ],
      "metadata": {
        "colab": {
          "base_uri": "https://localhost:8080/"
        },
        "id": "yeDNaXtouyHj",
        "outputId": "7881ff72-f0fe-4d0f-fe6c-0a860b0c0b68"
      },
      "execution_count": null,
      "outputs": [
        {
          "output_type": "stream",
          "name": "stdout",
          "text": [
            "          State Monitoring Location Type of Water Body  Year  \\\n",
            "95   TAMIL NADU        ENNORE CREEK              CREEK  2022   \n",
            "96   TAMIL NADU        TIRUVOTTIYUR                SEA  2022   \n",
            "97   TAMIL NADU  CHENNAI PORT TRUST                SEA  2022   \n",
            "98   TAMIL NADU      SANTHOME BEACH                SEA  2022   \n",
            "99   TAMIL NADU         INJAMBAKKAM                SEA  2022   \n",
            "..          ...                 ...                ...   ...   \n",
            "191  TAMIL NADU         KOODANKULAM                SEA  2021   \n",
            "192  TAMIL NADU         KANYAKUMARI                SEA  2021   \n",
            "193  TAMIL NADU      KEEZHAMANAKUDY                SEA  2021   \n",
            "194  TAMIL NADU            COLACHEL                SEA  2021   \n",
            "195  TAMIL NADU      THANGAPATTINAM                SEA  2021   \n",
            "\n",
            "     Min Conductivity (μmho/cm)(<30k)  \n",
            "95                                NaN  \n",
            "96                            55050.0  \n",
            "97                            55050.0  \n",
            "98                            55050.0  \n",
            "99                            55050.0  \n",
            "..                                ...  \n",
            "191                               NaN  \n",
            "192                               NaN  \n",
            "193                               NaN  \n",
            "194                               NaN  \n",
            "195                               NaN  \n",
            "\n",
            "[68 rows x 5 columns]\n"
          ]
        }
      ]
    },
    {
      "cell_type": "code",
      "source": [
        "filtered_df = df[(df['State'] == 'TAMIL NADU') &\n",
        "                 (df['Type of Water Body'] == 'BEACH') &\n",
        "                 (df['Year'] == 2022)]\n",
        "filtered_df"
      ],
      "metadata": {
        "colab": {
          "base_uri": "https://localhost:8080/",
          "height": 283
        },
        "id": "Zz0DkSIoLjre",
        "outputId": "c4ce4929-635b-415a-8865-76233b9da73c"
      },
      "execution_count": null,
      "outputs": [
        {
          "output_type": "execute_result",
          "data": {
            "text/plain": [
              "     Year  Monitoring Location Type of Water Body       State  Min Temp (20<)  \\\n",
              "108  2022  THARANGAMBADI BEACH              BEACH  TAMIL NADU             NaN   \n",
              "110  2022          VELLANKANNI              BEACH  TAMIL NADU             NaN   \n",
              "\n",
              "     Max Temp (>30)  Min Dissolved O2(mg/L)  MaxDissolved O2(mg/L)  \\\n",
              "108             NaN                     5.6                    5.9   \n",
              "110             NaN                     5.2                    6.3   \n",
              "\n",
              "     Min pH(7.5<)  Max pH(>8.4)  ...  Max BOD\\n (mg/L)(>5)  \\\n",
              "108           8.4           8.7  ...                   NaN   \n",
              "110           8.4           8.7  ...                   NaN   \n",
              "\n",
              "     Min NitrateN + NitriteN (mg/L)(<0.3)  \\\n",
              "108                                   NaN   \n",
              "110                                   NaN   \n",
              "\n",
              "     Max NitrateN + NitriteN (mg/L)(>0.5)  Min Fecal Coliform (MPN/100ML)  \\\n",
              "108                                   NaN                             NaN   \n",
              "110                                   NaN                             6.0   \n",
              "\n",
              "     Max Fecal Coliform (MPN/100ML) (<200)  Min Total Coliform (MPN/100ML)  \\\n",
              "108                                    NaN                             NaN   \n",
              "110                                    6.0                             NaN   \n",
              "\n",
              "     Max Total Coliform (MPN/100ML)  Unnamed: 20  Unnamed: 21  \\\n",
              "108                             NaN          NaN          NaN   \n",
              "110                             NaN          NaN          NaN   \n",
              "\n",
              "     Marine Life Existence  \n",
              "108                    NaN  \n",
              "110                    NaN  \n",
              "\n",
              "[2 rows x 23 columns]"
            ],
            "text/html": [
              "\n",
              "  <div id=\"df-dcc9a152-343d-4b29-90b0-66c9c260d335\" class=\"colab-df-container\">\n",
              "    <div>\n",
              "<style scoped>\n",
              "    .dataframe tbody tr th:only-of-type {\n",
              "        vertical-align: middle;\n",
              "    }\n",
              "\n",
              "    .dataframe tbody tr th {\n",
              "        vertical-align: top;\n",
              "    }\n",
              "\n",
              "    .dataframe thead th {\n",
              "        text-align: right;\n",
              "    }\n",
              "</style>\n",
              "<table border=\"1\" class=\"dataframe\">\n",
              "  <thead>\n",
              "    <tr style=\"text-align: right;\">\n",
              "      <th></th>\n",
              "      <th>Year</th>\n",
              "      <th>Monitoring Location</th>\n",
              "      <th>Type of Water Body</th>\n",
              "      <th>State</th>\n",
              "      <th>Min Temp (20&lt;)</th>\n",
              "      <th>Max Temp (&gt;30)</th>\n",
              "      <th>Min Dissolved O2(mg/L)</th>\n",
              "      <th>MaxDissolved O2(mg/L)</th>\n",
              "      <th>Min pH(7.5&lt;)</th>\n",
              "      <th>Max pH(&gt;8.4)</th>\n",
              "      <th>...</th>\n",
              "      <th>Max BOD\\n (mg/L)(&gt;5)</th>\n",
              "      <th>Min NitrateN + NitriteN (mg/L)(&lt;0.3)</th>\n",
              "      <th>Max NitrateN + NitriteN (mg/L)(&gt;0.5)</th>\n",
              "      <th>Min Fecal Coliform (MPN/100ML)</th>\n",
              "      <th>Max Fecal Coliform (MPN/100ML) (&lt;200)</th>\n",
              "      <th>Min Total Coliform (MPN/100ML)</th>\n",
              "      <th>Max Total Coliform (MPN/100ML)</th>\n",
              "      <th>Unnamed: 20</th>\n",
              "      <th>Unnamed: 21</th>\n",
              "      <th>Marine Life Existence</th>\n",
              "    </tr>\n",
              "  </thead>\n",
              "  <tbody>\n",
              "    <tr>\n",
              "      <th>108</th>\n",
              "      <td>2022</td>\n",
              "      <td>THARANGAMBADI BEACH</td>\n",
              "      <td>BEACH</td>\n",
              "      <td>TAMIL NADU</td>\n",
              "      <td>NaN</td>\n",
              "      <td>NaN</td>\n",
              "      <td>5.6</td>\n",
              "      <td>5.9</td>\n",
              "      <td>8.4</td>\n",
              "      <td>8.7</td>\n",
              "      <td>...</td>\n",
              "      <td>NaN</td>\n",
              "      <td>NaN</td>\n",
              "      <td>NaN</td>\n",
              "      <td>NaN</td>\n",
              "      <td>NaN</td>\n",
              "      <td>NaN</td>\n",
              "      <td>NaN</td>\n",
              "      <td>NaN</td>\n",
              "      <td>NaN</td>\n",
              "      <td>NaN</td>\n",
              "    </tr>\n",
              "    <tr>\n",
              "      <th>110</th>\n",
              "      <td>2022</td>\n",
              "      <td>VELLANKANNI</td>\n",
              "      <td>BEACH</td>\n",
              "      <td>TAMIL NADU</td>\n",
              "      <td>NaN</td>\n",
              "      <td>NaN</td>\n",
              "      <td>5.2</td>\n",
              "      <td>6.3</td>\n",
              "      <td>8.4</td>\n",
              "      <td>8.7</td>\n",
              "      <td>...</td>\n",
              "      <td>NaN</td>\n",
              "      <td>NaN</td>\n",
              "      <td>NaN</td>\n",
              "      <td>6.0</td>\n",
              "      <td>6.0</td>\n",
              "      <td>NaN</td>\n",
              "      <td>NaN</td>\n",
              "      <td>NaN</td>\n",
              "      <td>NaN</td>\n",
              "      <td>NaN</td>\n",
              "    </tr>\n",
              "  </tbody>\n",
              "</table>\n",
              "<p>2 rows × 23 columns</p>\n",
              "</div>\n",
              "    <div class=\"colab-df-buttons\">\n",
              "\n",
              "  <div class=\"colab-df-container\">\n",
              "    <button class=\"colab-df-convert\" onclick=\"convertToInteractive('df-dcc9a152-343d-4b29-90b0-66c9c260d335')\"\n",
              "            title=\"Convert this dataframe to an interactive table.\"\n",
              "            style=\"display:none;\">\n",
              "\n",
              "  <svg xmlns=\"http://www.w3.org/2000/svg\" height=\"24px\" viewBox=\"0 -960 960 960\">\n",
              "    <path d=\"M120-120v-720h720v720H120Zm60-500h600v-160H180v160Zm220 220h160v-160H400v160Zm0 220h160v-160H400v160ZM180-400h160v-160H180v160Zm440 0h160v-160H620v160ZM180-180h160v-160H180v160Zm440 0h160v-160H620v160Z\"/>\n",
              "  </svg>\n",
              "    </button>\n",
              "\n",
              "  <style>\n",
              "    .colab-df-container {\n",
              "      display:flex;\n",
              "      gap: 12px;\n",
              "    }\n",
              "\n",
              "    .colab-df-convert {\n",
              "      background-color: #E8F0FE;\n",
              "      border: none;\n",
              "      border-radius: 50%;\n",
              "      cursor: pointer;\n",
              "      display: none;\n",
              "      fill: #1967D2;\n",
              "      height: 32px;\n",
              "      padding: 0 0 0 0;\n",
              "      width: 32px;\n",
              "    }\n",
              "\n",
              "    .colab-df-convert:hover {\n",
              "      background-color: #E2EBFA;\n",
              "      box-shadow: 0px 1px 2px rgba(60, 64, 67, 0.3), 0px 1px 3px 1px rgba(60, 64, 67, 0.15);\n",
              "      fill: #174EA6;\n",
              "    }\n",
              "\n",
              "    .colab-df-buttons div {\n",
              "      margin-bottom: 4px;\n",
              "    }\n",
              "\n",
              "    [theme=dark] .colab-df-convert {\n",
              "      background-color: #3B4455;\n",
              "      fill: #D2E3FC;\n",
              "    }\n",
              "\n",
              "    [theme=dark] .colab-df-convert:hover {\n",
              "      background-color: #434B5C;\n",
              "      box-shadow: 0px 1px 3px 1px rgba(0, 0, 0, 0.15);\n",
              "      filter: drop-shadow(0px 1px 2px rgba(0, 0, 0, 0.3));\n",
              "      fill: #FFFFFF;\n",
              "    }\n",
              "  </style>\n",
              "\n",
              "    <script>\n",
              "      const buttonEl =\n",
              "        document.querySelector('#df-dcc9a152-343d-4b29-90b0-66c9c260d335 button.colab-df-convert');\n",
              "      buttonEl.style.display =\n",
              "        google.colab.kernel.accessAllowed ? 'block' : 'none';\n",
              "\n",
              "      async function convertToInteractive(key) {\n",
              "        const element = document.querySelector('#df-dcc9a152-343d-4b29-90b0-66c9c260d335');\n",
              "        const dataTable =\n",
              "          await google.colab.kernel.invokeFunction('convertToInteractive',\n",
              "                                                    [key], {});\n",
              "        if (!dataTable) return;\n",
              "\n",
              "        const docLinkHtml = 'Like what you see? Visit the ' +\n",
              "          '<a target=\"_blank\" href=https://colab.research.google.com/notebooks/data_table.ipynb>data table notebook</a>'\n",
              "          + ' to learn more about interactive tables.';\n",
              "        element.innerHTML = '';\n",
              "        dataTable['output_type'] = 'display_data';\n",
              "        await google.colab.output.renderOutput(dataTable, element);\n",
              "        const docLink = document.createElement('div');\n",
              "        docLink.innerHTML = docLinkHtml;\n",
              "        element.appendChild(docLink);\n",
              "      }\n",
              "    </script>\n",
              "  </div>\n",
              "\n",
              "\n",
              "<div id=\"df-ca38b650-0e8c-45c3-8e4b-335b15381569\">\n",
              "  <button class=\"colab-df-quickchart\" onclick=\"quickchart('df-ca38b650-0e8c-45c3-8e4b-335b15381569')\"\n",
              "            title=\"Suggest charts\"\n",
              "            style=\"display:none;\">\n",
              "\n",
              "<svg xmlns=\"http://www.w3.org/2000/svg\" height=\"24px\"viewBox=\"0 0 24 24\"\n",
              "     width=\"24px\">\n",
              "    <g>\n",
              "        <path d=\"M19 3H5c-1.1 0-2 .9-2 2v14c0 1.1.9 2 2 2h14c1.1 0 2-.9 2-2V5c0-1.1-.9-2-2-2zM9 17H7v-7h2v7zm4 0h-2V7h2v10zm4 0h-2v-4h2v4z\"/>\n",
              "    </g>\n",
              "</svg>\n",
              "  </button>\n",
              "\n",
              "<style>\n",
              "  .colab-df-quickchart {\n",
              "      --bg-color: #E8F0FE;\n",
              "      --fill-color: #1967D2;\n",
              "      --hover-bg-color: #E2EBFA;\n",
              "      --hover-fill-color: #174EA6;\n",
              "      --disabled-fill-color: #AAA;\n",
              "      --disabled-bg-color: #DDD;\n",
              "  }\n",
              "\n",
              "  [theme=dark] .colab-df-quickchart {\n",
              "      --bg-color: #3B4455;\n",
              "      --fill-color: #D2E3FC;\n",
              "      --hover-bg-color: #434B5C;\n",
              "      --hover-fill-color: #FFFFFF;\n",
              "      --disabled-bg-color: #3B4455;\n",
              "      --disabled-fill-color: #666;\n",
              "  }\n",
              "\n",
              "  .colab-df-quickchart {\n",
              "    background-color: var(--bg-color);\n",
              "    border: none;\n",
              "    border-radius: 50%;\n",
              "    cursor: pointer;\n",
              "    display: none;\n",
              "    fill: var(--fill-color);\n",
              "    height: 32px;\n",
              "    padding: 0;\n",
              "    width: 32px;\n",
              "  }\n",
              "\n",
              "  .colab-df-quickchart:hover {\n",
              "    background-color: var(--hover-bg-color);\n",
              "    box-shadow: 0 1px 2px rgba(60, 64, 67, 0.3), 0 1px 3px 1px rgba(60, 64, 67, 0.15);\n",
              "    fill: var(--button-hover-fill-color);\n",
              "  }\n",
              "\n",
              "  .colab-df-quickchart-complete:disabled,\n",
              "  .colab-df-quickchart-complete:disabled:hover {\n",
              "    background-color: var(--disabled-bg-color);\n",
              "    fill: var(--disabled-fill-color);\n",
              "    box-shadow: none;\n",
              "  }\n",
              "\n",
              "  .colab-df-spinner {\n",
              "    border: 2px solid var(--fill-color);\n",
              "    border-color: transparent;\n",
              "    border-bottom-color: var(--fill-color);\n",
              "    animation:\n",
              "      spin 1s steps(1) infinite;\n",
              "  }\n",
              "\n",
              "  @keyframes spin {\n",
              "    0% {\n",
              "      border-color: transparent;\n",
              "      border-bottom-color: var(--fill-color);\n",
              "      border-left-color: var(--fill-color);\n",
              "    }\n",
              "    20% {\n",
              "      border-color: transparent;\n",
              "      border-left-color: var(--fill-color);\n",
              "      border-top-color: var(--fill-color);\n",
              "    }\n",
              "    30% {\n",
              "      border-color: transparent;\n",
              "      border-left-color: var(--fill-color);\n",
              "      border-top-color: var(--fill-color);\n",
              "      border-right-color: var(--fill-color);\n",
              "    }\n",
              "    40% {\n",
              "      border-color: transparent;\n",
              "      border-right-color: var(--fill-color);\n",
              "      border-top-color: var(--fill-color);\n",
              "    }\n",
              "    60% {\n",
              "      border-color: transparent;\n",
              "      border-right-color: var(--fill-color);\n",
              "    }\n",
              "    80% {\n",
              "      border-color: transparent;\n",
              "      border-right-color: var(--fill-color);\n",
              "      border-bottom-color: var(--fill-color);\n",
              "    }\n",
              "    90% {\n",
              "      border-color: transparent;\n",
              "      border-bottom-color: var(--fill-color);\n",
              "    }\n",
              "  }\n",
              "</style>\n",
              "\n",
              "  <script>\n",
              "    async function quickchart(key) {\n",
              "      const quickchartButtonEl =\n",
              "        document.querySelector('#' + key + ' button');\n",
              "      quickchartButtonEl.disabled = true;  // To prevent multiple clicks.\n",
              "      quickchartButtonEl.classList.add('colab-df-spinner');\n",
              "      try {\n",
              "        const charts = await google.colab.kernel.invokeFunction(\n",
              "            'suggestCharts', [key], {});\n",
              "      } catch (error) {\n",
              "        console.error('Error during call to suggestCharts:', error);\n",
              "      }\n",
              "      quickchartButtonEl.classList.remove('colab-df-spinner');\n",
              "      quickchartButtonEl.classList.add('colab-df-quickchart-complete');\n",
              "    }\n",
              "    (() => {\n",
              "      let quickchartButtonEl =\n",
              "        document.querySelector('#df-ca38b650-0e8c-45c3-8e4b-335b15381569 button');\n",
              "      quickchartButtonEl.style.display =\n",
              "        google.colab.kernel.accessAllowed ? 'block' : 'none';\n",
              "    })();\n",
              "  </script>\n",
              "</div>\n",
              "    </div>\n",
              "  </div>\n"
            ],
            "application/vnd.google.colaboratory.intrinsic+json": {
              "type": "dataframe",
              "variable_name": "filtered_df"
            }
          },
          "metadata": {},
          "execution_count": 19
        }
      ]
    },
    {
      "cell_type": "code",
      "source": [
        "mean_min_conductivity = filtered_df['Min Conductivity (μmho/cm)(<30k)'].mean()\n",
        "df.loc[(df['State'] == 'TAMIL NADU') &\n",
        "       (df['Type of Water Body'] == 'BEACH') &\n",
        "       (df['Year'] == 2022), 'Min Conductivity (μmho/cm)(<30k)'] = mean_min_conductivity\n",
        "print(df[df['State'] == 'TAMIL NADU'][['State','Monitoring Location', 'Type of Water Body', 'Year', 'Min Conductivity (μmho/cm)(<30k)']])"
      ],
      "metadata": {
        "colab": {
          "base_uri": "https://localhost:8080/"
        },
        "id": "Jk_ruS_8MZ5I",
        "outputId": "593eccfe-781a-4c59-e88d-dac3f877bc52"
      },
      "execution_count": null,
      "outputs": [
        {
          "output_type": "stream",
          "name": "stdout",
          "text": [
            "          State Monitoring Location Type of Water Body  Year  \\\n",
            "95   TAMIL NADU        ENNORE CREEK              CREEK  2022   \n",
            "96   TAMIL NADU        TIRUVOTTIYUR                SEA  2022   \n",
            "97   TAMIL NADU  CHENNAI PORT TRUST                SEA  2022   \n",
            "98   TAMIL NADU      SANTHOME BEACH                SEA  2022   \n",
            "99   TAMIL NADU         INJAMBAKKAM                SEA  2022   \n",
            "..          ...                 ...                ...   ...   \n",
            "191  TAMIL NADU         KOODANKULAM                SEA  2021   \n",
            "192  TAMIL NADU         KANYAKUMARI                SEA  2021   \n",
            "193  TAMIL NADU      KEEZHAMANAKUDY                SEA  2021   \n",
            "194  TAMIL NADU            COLACHEL                SEA  2021   \n",
            "195  TAMIL NADU      THANGAPATTINAM                SEA  2021   \n",
            "\n",
            "     Min Conductivity (μmho/cm)(<30k)  \n",
            "95                                NaN  \n",
            "96                            55050.0  \n",
            "97                            55050.0  \n",
            "98                            55050.0  \n",
            "99                            55050.0  \n",
            "..                                ...  \n",
            "191                               NaN  \n",
            "192                               NaN  \n",
            "193                               NaN  \n",
            "194                               NaN  \n",
            "195                               NaN  \n",
            "\n",
            "[68 rows x 5 columns]\n"
          ]
        }
      ]
    },
    {
      "cell_type": "code",
      "source": [
        "#checking for null values in odisha for min temp\n",
        "odisha_min_temp_null = df[df['State'] == 'ODISHA']['Min Temp (20<)'].isnull().sum()\n",
        "print(\"Number of null values in Min Temp column for ODISHA state:\", odisha_min_temp_null)\n"
      ],
      "metadata": {
        "colab": {
          "base_uri": "https://localhost:8080/"
        },
        "id": "EnR3AUpyNXp-",
        "outputId": "df799174-d613-46d3-b7a1-e86ef112173a"
      },
      "execution_count": null,
      "outputs": [
        {
          "output_type": "stream",
          "name": "stdout",
          "text": [
            "Number of null values in Min Temp column for ODISHA state: 0\n"
          ]
        }
      ]
    },
    {
      "cell_type": "code",
      "source": [
        "#checking for null values in odisha for max temp\n",
        "odisha_min_temp_null = df[df['State'] == 'ODISHA']['Max Temp (>30)'].isnull().sum()\n",
        "print(\"Number of null values in Max Temp column for ODISHA state:\", odisha_min_temp_null)\n"
      ],
      "metadata": {
        "colab": {
          "base_uri": "https://localhost:8080/"
        },
        "id": "pdnG7WbJPsw5",
        "outputId": "82f5dfb8-3b20-40ea-f682-7ebe5f1300e0"
      },
      "execution_count": null,
      "outputs": [
        {
          "output_type": "stream",
          "name": "stdout",
          "text": [
            "Number of null values in Max Temp column for ODISHA state: 0\n"
          ]
        }
      ]
    },
    {
      "cell_type": "code",
      "source": [
        "#checking for null values in odisha for min dissolved 02\n",
        "odisha_min_temp_null = df[df['State'] == 'ODISHA']['Min Dissolved O2(mg/L)'].isnull().sum()\n",
        "print(\"Number of null values in Min dissolved 02 column for ODISHA state:\", odisha_min_temp_null)\n"
      ],
      "metadata": {
        "colab": {
          "base_uri": "https://localhost:8080/"
        },
        "id": "GM6o84UmQzw1",
        "outputId": "8f524cad-74ab-4815-c5ef-b420f0a9a58e"
      },
      "execution_count": null,
      "outputs": [
        {
          "output_type": "stream",
          "name": "stdout",
          "text": [
            "Number of null values in Min dissolved 02 column for ODISHA state: 0\n"
          ]
        }
      ]
    },
    {
      "cell_type": "code",
      "source": [
        "#checking for null values in odisha for max dissolved 02\n",
        "odisha_max_temp_null = df[df['State'] == 'ODISHA']['MaxDissolved O2(mg/L)'].isnull().sum()\n",
        "print(\"Number of null values in max dissolved o2 column for ODISHA state:\", odisha_max_temp_null)\n"
      ],
      "metadata": {
        "colab": {
          "base_uri": "https://localhost:8080/"
        },
        "id": "m0UZEI69RIlQ",
        "outputId": "253564d4-1b45-4af0-9576-bf9c9473208e"
      },
      "execution_count": null,
      "outputs": [
        {
          "output_type": "stream",
          "name": "stdout",
          "text": [
            "Number of null values in max dissolved o2 column for ODISHA state: 0\n"
          ]
        }
      ]
    },
    {
      "cell_type": "code",
      "source": [
        "#checking for null values in odisha min ph\n",
        "odisha_min_ph_null = df[df['State'] == 'ODISHA']['Min pH(7.5<)'].isnull().sum()\n",
        "print(\"Number of null values in Min Ph for ODISHA state:\", odisha_min_ph_null)"
      ],
      "metadata": {
        "colab": {
          "base_uri": "https://localhost:8080/"
        },
        "id": "S9hwDX7-SDP1",
        "outputId": "1627a383-c937-40b1-f0d4-85af6f28a575"
      },
      "execution_count": null,
      "outputs": [
        {
          "output_type": "stream",
          "name": "stdout",
          "text": [
            "Number of null values in Min Ph for ODISHA state: 0\n"
          ]
        }
      ]
    },
    {
      "cell_type": "code",
      "source": [
        "#checking for null values  for each parameter in ODISHA column\n",
        "odisha_null_values = df[df['State'] == 'ODISHA'].isnull().sum()\n",
        "print(\"Null values in each column for ODISHA state:\\n\", odisha_null_values)\n"
      ],
      "metadata": {
        "colab": {
          "base_uri": "https://localhost:8080/"
        },
        "id": "iFuR8EakSz1O",
        "outputId": "30708558-d58d-4a6f-e617-120541527923"
      },
      "execution_count": null,
      "outputs": [
        {
          "output_type": "stream",
          "name": "stdout",
          "text": [
            "Null values in each column for ODISHA state:\n",
            " Year                                       0\n",
            "Monitoring Location                        0\n",
            "Type of Water Body                         0\n",
            "State                                      0\n",
            "Min Temp (20<)                             0\n",
            "Max Temp (>30)                             0\n",
            "Min Dissolved O2(mg/L)                     0\n",
            "MaxDissolved O2(mg/L)                      0\n",
            "Min pH(7.5<)                               0\n",
            "Max pH(>8.4)                               0\n",
            "Min Conductivity (μmho/cm)(<30k)         100\n",
            "Max Conductivity (μmho/cm)(>50k)         100\n",
            "Min BOD\\n (mg/L)(<5)                       0\n",
            "Max BOD\\n (mg/L)(>5)                       0\n",
            "Min NitrateN + NitriteN (mg/L)(<0.3)     100\n",
            "Max NitrateN + NitriteN (mg/L)(>0.5)     100\n",
            "Min Fecal Coliform (MPN/100ML)             0\n",
            "Max Fecal Coliform (MPN/100ML) (<200)      0\n",
            "Min Total Coliform (MPN/100ML)           100\n",
            "Max Total Coliform (MPN/100ML)           100\n",
            "Unnamed: 20                              120\n",
            "Unnamed: 21                              120\n",
            "Marine Life Existence                    120\n",
            "dtype: int64\n"
          ]
        }
      ]
    },
    {
      "cell_type": "code",
      "source": [
        "# average of min conductivity of ODISHA\n",
        "odisha_min_conductivity_mean = df[(df['State'] == 'ODISHA')&(df['Year']==2022)]['Min Conductivity (μmho/cm)(<30k)'].mean()\n",
        "print(\"Mean Min Conductivity for ODISHA state:\", odisha_min_conductivity_mean)\n"
      ],
      "metadata": {
        "colab": {
          "base_uri": "https://localhost:8080/"
        },
        "id": "fX-9-PUcTGFA",
        "outputId": "e09826a4-c6b4-4555-d024-1b8d8113828e"
      },
      "execution_count": null,
      "outputs": [
        {
          "output_type": "stream",
          "name": "stdout",
          "text": [
            "Mean Min Conductivity for ODISHA state: 25953.75\n"
          ]
        }
      ]
    },
    {
      "cell_type": "code",
      "source": [
        "#fill the empty cells with mean value\n",
        "odisha_min_conductivity_mean = df[(df['State'] == 'ODISHA')&(df['Year']==2022)]['Min Conductivity (μmho/cm)(<30k)'].mean()\n",
        "df.loc[df['State'] == 'ODISHA', 'Min Conductivity (μmho/cm)(<30k)'] = df.loc[df['State'] == 'ODISHA', 'Min Conductivity (μmho/cm)(<30k)'].fillna(odisha_min_conductivity_mean)\n"
      ],
      "metadata": {
        "id": "TCRzu7YYT9Y7"
      },
      "execution_count": null,
      "outputs": []
    },
    {
      "cell_type": "code",
      "source": [
        "odisha_min_conductivity = df[(df['State'] == 'ODISHA')&(df['Year']==2022)]['Min Conductivity (μmho/cm)(<30k)']\n",
        "print(odisha_min_conductivity)\n"
      ],
      "metadata": {
        "colab": {
          "base_uri": "https://localhost:8080/"
        },
        "id": "JP8MRN7HUTKo",
        "outputId": "022d0bba-d816-4a9f-a160-5de6ea3852cb"
      },
      "execution_count": null,
      "outputs": [
        {
          "output_type": "stream",
          "name": "stdout",
          "text": [
            "12    25953.75\n",
            "13    25953.75\n",
            "14    25953.75\n",
            "15    25953.75\n",
            "16    25953.75\n",
            "        ...   \n",
            "90    25953.75\n",
            "91      625.00\n",
            "92    36440.00\n",
            "93    27460.00\n",
            "94    39290.00\n",
            "Name: Min Conductivity (μmho/cm)(<30k), Length: 83, dtype: float64\n"
          ]
        }
      ]
    },
    {
      "cell_type": "code",
      "source": [
        "# average of max conductivity of ODISHA in 2022\n",
        "odisha_max_conductivity_mean = df[(df['State'] == 'ODISHA')&(df['Year']==2022)]['Max Conductivity (μmho/cm)(>50k)'].mean()\n",
        "print(\"Mean Max Conductivity for ODISHA state:\", odisha_max_conductivity_mean)"
      ],
      "metadata": {
        "id": "RZ2KFDMOUYGu",
        "colab": {
          "base_uri": "https://localhost:8080/"
        },
        "outputId": "2716abcb-2dc6-472f-ab4c-f5ac6e618136"
      },
      "execution_count": null,
      "outputs": [
        {
          "output_type": "stream",
          "name": "stdout",
          "text": [
            "Mean Max Conductivity for ODISHA state: 43010.0\n"
          ]
        }
      ]
    },
    {
      "cell_type": "code",
      "source": [
        "#fill the empty cells with mean value of max conductivity of ODISHA in 2022\n",
        "odisha_max_conductivity_mean = df[(df['State'] == 'ODISHA')&(df['Year']==2022)]['Max Conductivity (μmho/cm)(>50k)'].mean()\n",
        "df.loc[df['State'] == 'ODISHA','Max Conductivity (μmho/cm)(>50k)'] = df.loc[df['State'] == 'ODISHA','Max Conductivity (μmho/cm)(>50k)'].fillna(odisha_max_conductivity_mean)\n"
      ],
      "metadata": {
        "id": "AAobtDWbz2ZE"
      },
      "execution_count": null,
      "outputs": []
    },
    {
      "cell_type": "code",
      "source": [
        "odisha_max_conductivity = df[(df['State'] == 'ODISHA')&(df['Year']==2022)]['Max Conductivity (μmho/cm)(>50k)']\n",
        "print(odisha_max_conductivity)"
      ],
      "metadata": {
        "colab": {
          "base_uri": "https://localhost:8080/"
        },
        "id": "rbV3xCus0MNU",
        "outputId": "f81c7967-c4b9-47d5-d9fa-08bfdf1a1ed2"
      },
      "execution_count": null,
      "outputs": [
        {
          "output_type": "stream",
          "name": "stdout",
          "text": [
            "12    43010.0\n",
            "13    43010.0\n",
            "14    43010.0\n",
            "15    43010.0\n",
            "16    43010.0\n",
            "       ...   \n",
            "90    43010.0\n",
            "91    29800.0\n",
            "92    46860.0\n",
            "93    48880.0\n",
            "94    46500.0\n",
            "Name: Max Conductivity (μmho/cm)(>50k), Length: 83, dtype: float64\n"
          ]
        }
      ]
    },
    {
      "cell_type": "code",
      "source": [
        "#calculating nitrate of ODISHA in the year 2022\n",
        "odisha_min_nitrateN_mean = df[(df['State'] == 'ODISHA')&(df['Year'] == 2022)]['Min NitrateN + NitriteN (mg/L)(<0.3)'].mean()\n",
        "print(\"Min NitrateN + NitriteN (mg/L)(<0.3):\", odisha_min_nitrateN_mean)"
      ],
      "metadata": {
        "colab": {
          "base_uri": "https://localhost:8080/"
        },
        "id": "KBrWB7XJ00hT",
        "outputId": "0ad59334-164e-4c7e-8503-3895da2b3c96"
      },
      "execution_count": null,
      "outputs": [
        {
          "output_type": "stream",
          "name": "stdout",
          "text": [
            "Min NitrateN + NitriteN (mg/L)(<0.3): 0.44499999999999995\n"
          ]
        }
      ]
    },
    {
      "cell_type": "code",
      "source": [
        "#filling th null values of min nitrate when state is Odisha and year is 2022\n",
        "odisha_min_nitrateN_mean = df[(df['State'] == 'ODISHA')&(df['Year'] == 2022)]['Min NitrateN + NitriteN (mg/L)(<0.3)'].mean()\n",
        "df.loc[(df['State'] == 'ODISHA') & (df['Year'] == 2022), 'Min NitrateN + NitriteN (mg/L)(<0.3)'] = df.loc[(df['State'] == 'ODISHA') & (df['Year'] == 2022), 'Min NitrateN + NitriteN (mg/L)(<0.3)'].fillna(odisha_min_nitrateN_mean)"
      ],
      "metadata": {
        "id": "AcR7puLo1u_1"
      },
      "execution_count": null,
      "outputs": []
    },
    {
      "cell_type": "code",
      "source": [
        "odisha_min_nitrateN_mean = df[(df['State'] == 'ODISHA') & (df['Year'] == 2022)]['Min NitrateN + NitriteN (mg/L)(<0.3)']\n",
        "print(f\"Year: 2022, State: ODISHA, Mean Min NitrateN + NitriteN (mg/L)(<0.3): {odisha_min_nitrateN_mean}\")"
      ],
      "metadata": {
        "colab": {
          "base_uri": "https://localhost:8080/"
        },
        "id": "PR0UuACe4tnV",
        "outputId": "69d2ffb7-5c29-42b7-b09d-4b8c8c9cb65b"
      },
      "execution_count": null,
      "outputs": [
        {
          "output_type": "stream",
          "name": "stdout",
          "text": [
            "Year: 2022, State: ODISHA, Mean Min NitrateN + NitriteN (mg/L)(<0.3): 12    0.445\n",
            "13    0.445\n",
            "14    0.445\n",
            "15    0.445\n",
            "16    0.445\n",
            "      ...  \n",
            "90    0.445\n",
            "91    0.660\n",
            "92    0.320\n",
            "93    0.410\n",
            "94    0.390\n",
            "Name: Min NitrateN + NitriteN (mg/L)(<0.3), Length: 83, dtype: float64\n"
          ]
        }
      ]
    },
    {
      "cell_type": "code",
      "source": [
        "#calculating mean max nitrate of ODISHA in the year 2022\n",
        "odisha_max_nitrateN_mean = df[(df['State'] == 'ODISHA')&(df['Year'] == 2022)]['Max NitrateN + NitriteN (mg/L)(>0.5)'].mean()\n",
        "print(\"Max NitrateN + NitriteN (mg/L)(>0.5):\", odisha_max_nitrateN_mean)"
      ],
      "metadata": {
        "colab": {
          "base_uri": "https://localhost:8080/"
        },
        "id": "8een18Aj8H1E",
        "outputId": "1774b277-85ad-480e-d063-9690fb83e2ce"
      },
      "execution_count": null,
      "outputs": [
        {
          "output_type": "stream",
          "name": "stdout",
          "text": [
            "Max NitrateN + NitriteN (mg/L)(>0.5): 3.2775000000000003\n"
          ]
        }
      ]
    },
    {
      "cell_type": "code",
      "source": [
        "#filling null max nitrate values in the state odisha in year 2022\n",
        "odisha_max_nitrateN_mean = df[(df['State'] == 'ODISHA')&(df['Year'] == 2022)]['Max NitrateN + NitriteN (mg/L)(>0.5)'].mean()\n",
        "df.loc[(df['State'] == 'ODISHA') & (df['Year'] == 2022), 'Max NitrateN + NitriteN (mg/L)(>0.5)'] = df.loc[(df['State'] == 'ODISHA') & (df['Year'] == 2022), 'Max NitrateN + NitriteN (mg/L)(>0.5)'].fillna(odisha_max_nitrateN_mean)"
      ],
      "metadata": {
        "id": "QCq4RSpr9Khw"
      },
      "execution_count": null,
      "outputs": []
    },
    {
      "cell_type": "code",
      "source": [
        "odisha_max_nitrateN_mean = df[(df['State'] == 'ODISHA') & (df['Year'] == 2022)]['Max NitrateN + NitriteN (mg/L)(>0.5)']\n",
        "print(f\"Year: 2022, State: ODISHA, Mean Max NitrateN + NitriteN (mg/L)(>0.5): {odisha_max_nitrateN_mean}\")"
      ],
      "metadata": {
        "colab": {
          "base_uri": "https://localhost:8080/"
        },
        "id": "S9i7OOzx9g_E",
        "outputId": "479cc72a-5922-49b7-b45d-4a20f2c7a6d9"
      },
      "execution_count": null,
      "outputs": [
        {
          "output_type": "stream",
          "name": "stdout",
          "text": [
            "Year: 2022, State: ODISHA, Mean Max NitrateN + NitriteN (mg/L)(>0.5): 12    3.2775\n",
            "13    3.2775\n",
            "14    3.2775\n",
            "15    3.2775\n",
            "16    3.2775\n",
            "       ...  \n",
            "90    3.2775\n",
            "91    7.4200\n",
            "92    1.3200\n",
            "93    1.9800\n",
            "94    2.3900\n",
            "Name: Max NitrateN + NitriteN (mg/L)(>0.5), Length: 83, dtype: float64\n"
          ]
        }
      ]
    },
    {
      "cell_type": "code",
      "source": [
        "df.dtypes"
      ],
      "metadata": {
        "colab": {
          "base_uri": "https://localhost:8080/"
        },
        "id": "BR8_px1_-CWL",
        "outputId": "b48b7998-56fa-46bb-edce-031e4a78ddd7"
      },
      "execution_count": null,
      "outputs": [
        {
          "output_type": "execute_result",
          "data": {
            "text/plain": [
              "Year                                       int64\n",
              "Monitoring Location                       object\n",
              "Type of Water Body                        object\n",
              "State                                     object\n",
              "Min Temp (20<)                           float64\n",
              "Max Temp (>30)                           float64\n",
              "Min Dissolved O2(mg/L)                   float64\n",
              "MaxDissolved O2(mg/L)                    float64\n",
              "Min pH(7.5<)                             float64\n",
              "Max pH(>8.4)                             float64\n",
              "Min Conductivity (μmho/cm)(<30k)         float64\n",
              "Max Conductivity (μmho/cm)(>50k)         float64\n",
              "Min BOD\\n (mg/L)(<5)                     float64\n",
              "Max BOD\\n (mg/L)(>5)                     float64\n",
              "Min NitrateN + NitriteN (mg/L)(<0.3)     float64\n",
              "Max NitrateN + NitriteN (mg/L)(>0.5)     float64\n",
              "Min Fecal Coliform (MPN/100ML)           float64\n",
              "Max Fecal Coliform (MPN/100ML) (<200)    float64\n",
              "Min Total Coliform (MPN/100ML)           float64\n",
              "Max Total Coliform (MPN/100ML)           float64\n",
              "Unnamed: 20                              float64\n",
              "Unnamed: 21                              float64\n",
              "Marine Life Existence                    float64\n",
              "dtype: object"
            ]
          },
          "metadata": {},
          "execution_count": 39
        }
      ]
    },
    {
      "cell_type": "code",
      "source": [
        "#check for null values in Min Fecal Coliform (MPN/100ML)\n",
        "odisha_min_fecalcoliform_null = df[df['State'] == 'ODISHA']['Min Fecal Coliform (MPN/100ML)'].isnull().sum()\n",
        "print(\"Number of null values in Min  for ODISHA state:\", odisha_min_fecalcoliform_null)"
      ],
      "metadata": {
        "colab": {
          "base_uri": "https://localhost:8080/"
        },
        "id": "jgPka-96AF1p",
        "outputId": "be16d6d3-bb98-483a-9060-19645e4c8b5e"
      },
      "execution_count": null,
      "outputs": [
        {
          "output_type": "stream",
          "name": "stdout",
          "text": [
            "Number of null values in Min  for ODISHA state: 0\n"
          ]
        }
      ]
    },
    {
      "cell_type": "code",
      "source": [
        "#checking for null values  for each parameter in ODISHA column\n",
        "odisha_null_values = df[(df['State'] == 'ODISHA')&(df['Year']== '2022')].isnull().sum()\n",
        "print(\"Null values in each column for ODISHA state:\\n\", odisha_null_values)"
      ],
      "metadata": {
        "colab": {
          "base_uri": "https://localhost:8080/"
        },
        "id": "t7iEroB-Ay6t",
        "outputId": "65d02ad8-08fe-4c5c-f65a-d9290f574d28"
      },
      "execution_count": null,
      "outputs": [
        {
          "output_type": "stream",
          "name": "stdout",
          "text": [
            "Null values in each column for ODISHA state:\n",
            " Year                                     0.0\n",
            "Monitoring Location                      0.0\n",
            "Type of Water Body                       0.0\n",
            "State                                    0.0\n",
            "Min Temp (20<)                           0.0\n",
            "Max Temp (>30)                           0.0\n",
            "Min Dissolved O2(mg/L)                   0.0\n",
            "MaxDissolved O2(mg/L)                    0.0\n",
            "Min pH(7.5<)                             0.0\n",
            "Max pH(>8.4)                             0.0\n",
            "Min Conductivity (μmho/cm)(<30k)         0.0\n",
            "Max Conductivity (μmho/cm)(>50k)         0.0\n",
            "Min BOD\\n (mg/L)(<5)                     0.0\n",
            "Max BOD\\n (mg/L)(>5)                     0.0\n",
            "Min NitrateN + NitriteN (mg/L)(<0.3)     0.0\n",
            "Max NitrateN + NitriteN (mg/L)(>0.5)     0.0\n",
            "Min Fecal Coliform (MPN/100ML)           0.0\n",
            "Max Fecal Coliform (MPN/100ML) (<200)    0.0\n",
            "Min Total Coliform (MPN/100ML)           0.0\n",
            "Max Total Coliform (MPN/100ML)           0.0\n",
            "Unnamed: 20                              0.0\n",
            "Unnamed: 21                              0.0\n",
            "Marine Life Existence                    0.0\n",
            "dtype: float64\n"
          ]
        }
      ]
    },
    {
      "cell_type": "markdown",
      "source": [
        "NO EMPTY CELLS FOR STATE ODISHA AND YEAR 2022 . ALL CELLS HAVE BEEN FILLED\n"
      ],
      "metadata": {
        "id": "DA4Swzk7FQ52"
      }
    },
    {
      "cell_type": "code",
      "source": [
        "# Filter the DataFrame for rows where the State is 'ODISHA' and the Year is 2021\n",
        "odisha_2021_filtered_df = df[(df['State'] == 'ODISHA') & (df['Year'] == 2021)]\n",
        "\n",
        "# Check for null values in each column of the filtered DataFrame and sum them up\n",
        "odisha_2021_null_values = odisha_2021_filtered_df.isnull().sum()\n",
        "\n",
        "# Print the number of null values for each column in the filtered DataFrame\n",
        "print(\"Null values in each column for ODISHA state in the year 2021:\\n\", odisha_2021_null_values)\n"
      ],
      "metadata": {
        "colab": {
          "base_uri": "https://localhost:8080/"
        },
        "id": "nju_GOR-FcMp",
        "outputId": "11be52d3-487c-417a-8832-7d56621f9d4b"
      },
      "execution_count": null,
      "outputs": [
        {
          "output_type": "stream",
          "name": "stdout",
          "text": [
            "Null values in each column for ODISHA state in the year 2021:\n",
            " Year                                      0\n",
            "Monitoring Location                       0\n",
            "Type of Water Body                        0\n",
            "State                                     0\n",
            "Min Temp (20<)                            0\n",
            "Max Temp (>30)                            0\n",
            "Min Dissolved O2(mg/L)                    0\n",
            "MaxDissolved O2(mg/L)                     0\n",
            "Min pH(7.5<)                              0\n",
            "Max pH(>8.4)                              0\n",
            "Min Conductivity (μmho/cm)(<30k)          0\n",
            "Max Conductivity (μmho/cm)(>50k)          0\n",
            "Min BOD\\n (mg/L)(<5)                      0\n",
            "Max BOD\\n (mg/L)(>5)                      0\n",
            "Min NitrateN + NitriteN (mg/L)(<0.3)     21\n",
            "Max NitrateN + NitriteN (mg/L)(>0.5)     21\n",
            "Min Fecal Coliform (MPN/100ML)            0\n",
            "Max Fecal Coliform (MPN/100ML) (<200)     0\n",
            "Min Total Coliform (MPN/100ML)           21\n",
            "Max Total Coliform (MPN/100ML)           21\n",
            "Unnamed: 20                              21\n",
            "Unnamed: 21                              21\n",
            "Marine Life Existence                    21\n",
            "dtype: int64\n"
          ]
        }
      ]
    },
    {
      "cell_type": "code",
      "source": [
        "# finding mean min conductivity of odisha for the year 2021\n",
        "odisha_min_conductivity_2021_mean = df[(df['State'] == 'ODISHA')&(df['Year'] == 2021)]['Min Conductivity (μmho/cm)(<30k)'].mean()\n",
        "print(\"Min Conductivity (μmho/cm)(<30k):\", odisha_min_conductivity_2021_mean)"
      ],
      "metadata": {
        "colab": {
          "base_uri": "https://localhost:8080/"
        },
        "id": "AWz1Fih3I46W",
        "outputId": "c2d12807-d1a5-4b64-f723-b1b8d4d8729e"
      },
      "execution_count": null,
      "outputs": [
        {
          "output_type": "stream",
          "name": "stdout",
          "text": [
            "Min Conductivity (μmho/cm)(<30k): 25953.75\n"
          ]
        }
      ]
    },
    {
      "cell_type": "code",
      "source": [
        "#filling the empty cells for min conductivity for 2021\n",
        "odisha_min_conductivity_2021_mean = df[(df['State'] == 'ODISHA')&(df['Year'] == 2021)]['Min Conductivity (μmho/cm)(<30k)'].mean()\n",
        "df.loc[(df['State'] == 'ODISHA') & (df['Year'] == 2021), 'Min Conductivity (μmho/cm)(<30k)'] = df.loc[(df['State'] == 'ODISHA') & (df['Year'] == 2021), 'Min Conductivity (μmho/cm)(<30k)'].fillna(odisha_min_conductivity_2021_mean)"
      ],
      "metadata": {
        "id": "FRYhs-1FJ8Cg"
      },
      "execution_count": null,
      "outputs": []
    },
    {
      "cell_type": "code",
      "source": [
        "odisha_min_conductivity_2021_mean = df[(df['State'] == 'ODISHA') & (df['Year'] == 2021)]['Min Conductivity (μmho/cm)(<30k)']\n",
        "print(f\"Year: 2021, State: ODISHA, Mean Min Conductivity (μmho/cm)(<30k): {odisha_min_conductivity_2021_mean}\")"
      ],
      "metadata": {
        "colab": {
          "base_uri": "https://localhost:8080/"
        },
        "id": "TDGFkzruKmXL",
        "outputId": "2ab49294-d409-4cb9-84b0-81540ce8e03f"
      },
      "execution_count": null,
      "outputs": [
        {
          "output_type": "stream",
          "name": "stdout",
          "text": [
            "Year: 2021, State: ODISHA, Mean Min Conductivity (μmho/cm)(<30k): 141    25953.75\n",
            "142    25953.75\n",
            "143    25953.75\n",
            "144    25953.75\n",
            "145    25953.75\n",
            "146    25953.75\n",
            "147    25953.75\n",
            "148    25953.75\n",
            "149    25953.75\n",
            "150    25953.75\n",
            "151    25953.75\n",
            "152    25953.75\n",
            "153    25953.75\n",
            "154    25953.75\n",
            "155    25953.75\n",
            "156    25953.75\n",
            "157    25953.75\n",
            "158    25953.75\n",
            "159    25953.75\n",
            "160    25953.75\n",
            "161    25953.75\n",
            "Name: Min Conductivity (μmho/cm)(<30k), dtype: float64\n"
          ]
        }
      ]
    },
    {
      "cell_type": "code",
      "source": [
        "# finding mean max conductivity of odisha for the year 2021\n",
        "odisha_max_conductivity_2021_mean = df[(df['State'] == 'ODISHA')&(df['Year'] == 2021)]['Max Conductivity (μmho/cm)(>50k)'].mean()\n",
        "print(\"Max Conductivity (μmho/cm)(>50k):\", odisha_max_conductivity_2021_mean)"
      ],
      "metadata": {
        "colab": {
          "base_uri": "https://localhost:8080/"
        },
        "id": "qZjB5mNONNts",
        "outputId": "e02e8ebe-5767-4b61-9623-72012d85beda"
      },
      "execution_count": null,
      "outputs": [
        {
          "output_type": "stream",
          "name": "stdout",
          "text": [
            "Max Conductivity (μmho/cm)(>50k): 43010.0\n"
          ]
        }
      ]
    },
    {
      "cell_type": "markdown",
      "source": [
        "ALL PARAMETERS FOR ODISHA IN THE YEAR 2021 HAS BEEN FILLED UP"
      ],
      "metadata": {
        "id": "yn6Bvmg8PLgR"
      }
    },
    {
      "cell_type": "code",
      "source": [
        "#checking for null values  for each parameter in TAMIL NADU column\n",
        "tn_null_values = df[df['State'] == 'TAMIL NADU'].isnull().sum()\n",
        "print(\"Null values in each column for Tamil Nadu state:\\n\", tn_null_values)"
      ],
      "metadata": {
        "colab": {
          "base_uri": "https://localhost:8080/"
        },
        "id": "_pvYzb-gQi-y",
        "outputId": "1428af61-1e9c-4047-aac8-a3728ca8f904"
      },
      "execution_count": null,
      "outputs": [
        {
          "output_type": "stream",
          "name": "stdout",
          "text": [
            "Null values in each column for Tamil Nadu state:\n",
            " Year                                      0\n",
            "Monitoring Location                       0\n",
            "Type of Water Body                        0\n",
            "State                                     0\n",
            "Min Temp (20<)                           46\n",
            "Max Temp (>30)                           46\n",
            "Min Dissolved O2(mg/L)                    0\n",
            "MaxDissolved O2(mg/L)                     0\n",
            "Min pH(7.5<)                              0\n",
            "Max pH(>8.4)                              0\n",
            "Min Conductivity (μmho/cm)(<30k)         37\n",
            "Max Conductivity (μmho/cm)(>50k)         66\n",
            "Min BOD\\n (mg/L)(<5)                     18\n",
            "Max BOD\\n (mg/L)(>5)                     18\n",
            "Min NitrateN + NitriteN (mg/L)(<0.3)     68\n",
            "Max NitrateN + NitriteN (mg/L)(>0.5)     68\n",
            "Min Fecal Coliform (MPN/100ML)            9\n",
            "Max Fecal Coliform (MPN/100ML) (<200)     9\n",
            "Min Total Coliform (MPN/100ML)           61\n",
            "Max Total Coliform (MPN/100ML)           61\n",
            "Unnamed: 20                              68\n",
            "Unnamed: 21                              68\n",
            "Marine Life Existence                    68\n",
            "dtype: int64\n"
          ]
        }
      ]
    },
    {
      "cell_type": "code",
      "source": [
        "#calculating the mean min temp for tamil nadu in the year 2022\n",
        "tn_min_temp_2022_mean = df[(df['State'] == 'TAMIL NADU')&(df['Year'] == 2022)]['Min Temp (20<)'].mean()\n",
        "print(\"Min Temp (20<):\", tn_min_temp_2022_mean)"
      ],
      "metadata": {
        "colab": {
          "base_uri": "https://localhost:8080/"
        },
        "id": "BTfMTXYgRVgD",
        "outputId": "eb0353b5-a75e-4954-c5c9-15cd3982f40c"
      },
      "execution_count": null,
      "outputs": [
        {
          "output_type": "stream",
          "name": "stdout",
          "text": [
            "Min Temp (20<): 30.333333333333332\n"
          ]
        }
      ]
    },
    {
      "cell_type": "code",
      "source": [
        "# Calculating the mean max temp for tamil nadu for the year 2022\n",
        "tn_max_temp_2022_mean = df[(df['State'] == 'TAMIL NADU')&(df['Year'] == 2022)]['Max Temp (>30)'].mean()\n",
        "print(\"Max Temp (>30):\", tn_max_temp_2022_mean)"
      ],
      "metadata": {
        "colab": {
          "base_uri": "https://localhost:8080/"
        },
        "id": "W74wtLKXSbn4",
        "outputId": "fbc70b1d-ba7f-4d46-96f3-94f488c0c3f0"
      },
      "execution_count": null,
      "outputs": [
        {
          "output_type": "stream",
          "name": "stdout",
          "text": [
            "Max Temp (>30): 31.166666666666668\n"
          ]
        }
      ]
    },
    {
      "cell_type": "code",
      "source": [
        "# Calculating the mean min conductivity tamil nadu for the year 2022\n",
        "tn_min_conductivity_2022_mean = df[(df['State'] == 'TAMIL NADU')&(df['Year'] == 2022)]['Min Conductivity (μmho/cm)(<30k)'].mean()\n",
        "print(\"Min Conductivity (μmho/cm)(<30k)\", tn_min_conductivity_2022_mean)"
      ],
      "metadata": {
        "colab": {
          "base_uri": "https://localhost:8080/"
        },
        "id": "WintDb4BS16d",
        "outputId": "6e368bac-646e-4663-ef9d-a2ff60117bf2"
      },
      "execution_count": null,
      "outputs": [
        {
          "output_type": "stream",
          "name": "stdout",
          "text": [
            "Min Conductivity (μmho/cm)(<30k) 55050.0\n"
          ]
        }
      ]
    },
    {
      "cell_type": "code",
      "source": [
        "# Calculating the mean max conductivity tamil nadu for the year 2022\n",
        "tn_max_conductivity_2022_mean = df[(df['State'] == 'TAMIL NADU')&(df['Year'] == 2022)]['Max Conductivity (μmho/cm)(>50k)'].mean()\n",
        "print(\"Max Conductivity (μmho/cm)(>50k)\", tn_max_conductivity_2022_mean)"
      ],
      "metadata": {
        "colab": {
          "base_uri": "https://localhost:8080/"
        },
        "id": "TSImvdPRULo1",
        "outputId": "a4d93fcc-7b03-4470-8c6f-780c42cb577e"
      },
      "execution_count": null,
      "outputs": [
        {
          "output_type": "stream",
          "name": "stdout",
          "text": [
            "Max Conductivity (μmho/cm)(>50k) 56050.0\n"
          ]
        }
      ]
    },
    {
      "cell_type": "code",
      "source": [
        "# Calculating the mean min BOD tamil nadu for the year 2022\n",
        "tn_min_BOD_2022_mean = df[(df['State'] == 'TAMIL NADU')&(df['Year'] == 2022)]['Min BOD\\n (mg/L)(<5)'].mean()\n",
        "print(\"Min BOD\\n (mg/L)(<5)\", tn_min_BOD_2022_mean)"
      ],
      "metadata": {
        "colab": {
          "base_uri": "https://localhost:8080/"
        },
        "id": "co_wg1HcUxl3",
        "outputId": "ae16dbca-5273-47c5-a661-bb7ecf8a5abe"
      },
      "execution_count": null,
      "outputs": [
        {
          "output_type": "stream",
          "name": "stdout",
          "text": [
            "Min BOD\n",
            " (mg/L)(<5) 2.466666666666667\n"
          ]
        }
      ]
    },
    {
      "cell_type": "code",
      "source": [
        "# Calculating the mean max BOD tamil nadu for the year 2022\n",
        "tn_max_BOD_2022_mean = df[(df['State'] == 'TAMIL NADU')&(df['Year'] == 2022)]['Max BOD\\n (mg/L)(>5)'].mean()\n",
        "print(\"Max BOD\\n (mg/L)(>5)\", tn_max_BOD_2022_mean)"
      ],
      "metadata": {
        "colab": {
          "base_uri": "https://localhost:8080/"
        },
        "id": "oLRDFTPwVo-Q",
        "outputId": "42df23b0-eeca-455f-ceed-d2a50f664b09"
      },
      "execution_count": null,
      "outputs": [
        {
          "output_type": "stream",
          "name": "stdout",
          "text": [
            "Max BOD\n",
            " (mg/L)(>5) 9.0\n"
          ]
        }
      ]
    },
    {
      "cell_type": "code",
      "source": [
        "# Calculating the mean min Nitrate tamil nadu for the year 2022\n",
        "tn_min_nitrate_2022_mean = df[(df['State'] == 'TAMIL NADU')&(df['Year'] == 2022)]['Min NitrateN + NitriteN (mg/L)(<0.3)'].mean()\n",
        "print(\"Min NitrateN + NitriteN (mg/L)(<0.3)\",tn_min_nitrate_2022_mean)"
      ],
      "metadata": {
        "colab": {
          "base_uri": "https://localhost:8080/"
        },
        "id": "YrU8s5tMWPfM",
        "outputId": "12df225e-de73-43e3-a464-158d24ab3c1b"
      },
      "execution_count": null,
      "outputs": [
        {
          "output_type": "stream",
          "name": "stdout",
          "text": [
            "Min NitrateN + NitriteN (mg/L)(<0.3) nan\n"
          ]
        }
      ]
    },
    {
      "cell_type": "code",
      "source": [
        "# Calculating the mean min fecal coliform tamil nadu for the year 2022\n",
        "tn_min_fecalcoliform_2022_mean = df[(df['State'] == 'TAMIL NADU')&(df['Year'] == 2022)]['Min Fecal Coliform (MPN/100ML)'].mean()\n",
        "print(\"Min Fecal Coliform (MPN/100ML):\",tn_min_fecalcoliform_2022_mean)"
      ],
      "metadata": {
        "colab": {
          "base_uri": "https://localhost:8080/"
        },
        "id": "Vk7TohDeXrwP",
        "outputId": "f5950555-0064-4609-e5a4-15cace5bf31a"
      },
      "execution_count": null,
      "outputs": [
        {
          "output_type": "stream",
          "name": "stdout",
          "text": [
            "Min Fecal Coliform (MPN/100ML): 5.892857142857143\n"
          ]
        }
      ]
    },
    {
      "cell_type": "code",
      "source": [
        "# Calculating the mean max fecal coliform tamil nadu for the year 2022\n",
        "tn_max_fecalcoliform_2022_mean = df[(df['State'] == 'TAMIL NADU')&(df['Year'] == 2022)]['Max Fecal Coliform (MPN/100ML) (<200)'].mean()\n",
        "print(\"Max Fecal Coliform (MPN/100ML) (<200):\",tn_max_fecalcoliform_2022_mean)"
      ],
      "metadata": {
        "colab": {
          "base_uri": "https://localhost:8080/"
        },
        "id": "Rcd-OASxYd0X",
        "outputId": "94ec68ff-d0da-4503-e8fb-4a53681cf4ba"
      },
      "execution_count": null,
      "outputs": [
        {
          "output_type": "stream",
          "name": "stdout",
          "text": [
            "Max Fecal Coliform (MPN/100ML) (<200): 59.392857142857146\n"
          ]
        }
      ]
    },
    {
      "cell_type": "markdown",
      "source": [
        "ALL THE VALUES FOR THE STATE TAMIL NADU OF THE YEAR 2022 EXCCEPT NITRATE HAVE BEEN FILLED"
      ],
      "metadata": {
        "id": "og7Q8IlrZWoW"
      }
    },
    {
      "cell_type": "code",
      "source": [
        "# Calculating the mean min temp of tamil nadu for the year 2021\n",
        "tn_min_temp_2021_mean = df[(df['State'] == 'TAMIL NADU')&(df['Year'] == 2021)]['Min Temp (20<)'].mean()\n",
        "print(\"Min Temp (20<):\",tn_min_temp_2021_mean)"
      ],
      "metadata": {
        "colab": {
          "base_uri": "https://localhost:8080/"
        },
        "id": "8HsVLp19t1B4",
        "outputId": "5e9bb71e-17d9-4de4-9462-c6a94c0ceb31"
      },
      "execution_count": null,
      "outputs": [
        {
          "output_type": "stream",
          "name": "stdout",
          "text": [
            "Min Temp (20<): 26.375\n"
          ]
        }
      ]
    },
    {
      "cell_type": "code",
      "source": [
        "# Calculating the mean max temp of tamil nadu for the year 2021\n",
        "tn_max_temp_2021_mean = df[(df['State'] == 'TAMIL NADU')&(df['Year'] == 2021)]['Max Temp (>30)'].mean()\n",
        "print(\"Max Temp (>30):\",tn_max_temp_2021_mean)"
      ],
      "metadata": {
        "colab": {
          "base_uri": "https://localhost:8080/"
        },
        "id": "OOLk1GKZuTfa",
        "outputId": "6d40ae6b-0803-401d-a9a3-2fc4632c5261"
      },
      "execution_count": null,
      "outputs": [
        {
          "output_type": "stream",
          "name": "stdout",
          "text": [
            "Max Temp (>30): 28.875\n"
          ]
        }
      ]
    },
    {
      "cell_type": "code",
      "source": [
        "# Calculating the mean min conductivity of tamil nadu for the year 2021\n",
        "tn_min_conductivity_2021_mean = df[(df['State'] == 'TAMIL NADU')&(df['Year'] == 2021)]['Min Conductivity (μmho/cm)(<30k)'].mean()\n",
        "print(\"Min Conductivity (μmho/cm)(<30k)\",tn_min_conductivity_2021_mean)"
      ],
      "metadata": {
        "colab": {
          "base_uri": "https://localhost:8080/"
        },
        "id": "2zxzC_gevP3D",
        "outputId": "d159e331-5e70-4214-b5b5-557288a32cc2"
      },
      "execution_count": null,
      "outputs": [
        {
          "output_type": "stream",
          "name": "stdout",
          "text": [
            "Min Conductivity (μmho/cm)(<30k) nan\n"
          ]
        }
      ]
    },
    {
      "cell_type": "code",
      "source": [
        "# Calculating the mean min BOD of tamil nadu for the year 2021\n",
        "tn_min_BOD_2021_mean = df[(df['State'] == 'TAMIL NADU')&(df['Year'] == 2021)]['Min BOD\\n (mg/L)(<5)'].mean()\n",
        "print(\"Min Conductivity (μmho/cm)(<30k)\",tn_min_conductivity_2021_mean)"
      ],
      "metadata": {
        "colab": {
          "base_uri": "https://localhost:8080/"
        },
        "id": "5Rea4EGDwqFE",
        "outputId": "c3300fe4-57c2-4ad7-a164-9bee34080335"
      },
      "execution_count": null,
      "outputs": [
        {
          "output_type": "stream",
          "name": "stdout",
          "text": [
            "Min Conductivity (μmho/cm)(<30k) nan\n"
          ]
        }
      ]
    },
    {
      "cell_type": "code",
      "source": [
        "#calculating the mean min fecal coliform of tamil nadu for the year 2021\n",
        "tn_min_fecalcoliform_2021_mean = df[(df['State'] == 'TAMIL NADU')&(df['Year'] == 2021)]['Min Fecal Coliform (MPN/100ML)'].mean()\n",
        "print(\"Min Fecal Coliform (MPN/100ML)\",tn_min_fecalcoliform_2021_mean)"
      ],
      "metadata": {
        "colab": {
          "base_uri": "https://localhost:8080/"
        },
        "id": "eptar2Dex775",
        "outputId": "ae61a0de-3a6a-4e26-9f98-dc833faeeb0e"
      },
      "execution_count": null,
      "outputs": [
        {
          "output_type": "stream",
          "name": "stdout",
          "text": [
            "Min Fecal Coliform (MPN/100ML) 13.387096774193548\n"
          ]
        }
      ]
    },
    {
      "cell_type": "code",
      "source": [
        "#calculating the mean min fecal coliform of tamil nadu for the year 2021\n",
        "tn_max_fecalcoliform_2021_mean = df[(df['State'] == 'TAMIL NADU')&(df['Year'] == 2021)]['Max Fecal Coliform (MPN/100ML) (<200)'].mean()\n",
        "print(\"Max Fecal Coliform (MPN/100ML) (<200) \",tn_max_fecalcoliform_2021_mean)"
      ],
      "metadata": {
        "colab": {
          "base_uri": "https://localhost:8080/"
        },
        "id": "sGsSnBY7yrE_",
        "outputId": "e9b345ed-bea1-4e5c-8b77-7d9f578c293f"
      },
      "execution_count": null,
      "outputs": [
        {
          "output_type": "stream",
          "name": "stdout",
          "text": [
            "Max Fecal Coliform (MPN/100ML) (<200)  215.94516129032257\n"
          ]
        }
      ]
    }
  ]
}